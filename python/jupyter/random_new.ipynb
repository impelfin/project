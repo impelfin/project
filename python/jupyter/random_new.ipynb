{
 "cells": [
  {
   "cell_type": "code",
   "execution_count": 4,
   "metadata": {},
   "outputs": [
    {
     "name": "stdout",
     "output_type": "stream",
     "text": [
      "{'result_code': 200, 'result': [5, 3, 9, 8, 10, 7, 2, 4, 1, 6]} \n",
      "\n",
      "[5, 3, 9, 8, 10, 7, 2, 4, 1, 6]\n"
     ]
    }
   ],
   "source": [
    "import random\n",
    "\n",
    "alist=[]      \n",
    "\n",
    "def randomInt():\n",
    "    n = 10        \n",
    "    for i in range(n):\n",
    "        a = random.randint(1, n) \n",
    "        while a in alist:\n",
    "            a = random.randint(1, n) \n",
    "        alist.append(a)\n",
    "    return {'result_code':200, 'result' : alist}\n",
    "\n",
    "data = randomInt()\n",
    "\n",
    "print(data, '\\n')\n",
    "\n",
    "print(data['result'])\n"
   ]
  }
 ],
 "metadata": {
  "kernelspec": {
   "display_name": "Python 3",
   "language": "python",
   "name": "python3"
  },
  "language_info": {
   "codemirror_mode": {
    "name": "ipython",
    "version": 3
   },
   "file_extension": ".py",
   "mimetype": "text/x-python",
   "name": "python",
   "nbconvert_exporter": "python",
   "pygments_lexer": "ipython3",
   "version": "3.10.12"
  }
 },
 "nbformat": 4,
 "nbformat_minor": 2
}
