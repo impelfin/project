{
 "cells": [
  {
   "cell_type": "code",
   "execution_count": 1,
   "metadata": {},
   "outputs": [
    {
     "name": "stdout",
     "output_type": "stream",
     "text": [
      "4\n"
     ]
    }
   ],
   "source": [
    "import random\n",
    " \n",
    "a = random.randint(1,10)\n",
    "\n",
    "print(a)\n"
   ]
  },
  {
   "cell_type": "code",
   "execution_count": 2,
   "metadata": {},
   "outputs": [
    {
     "name": "stdout",
     "output_type": "stream",
     "text": [
      "[3, 10, 6, 8, 1, 6, 3, 8, 6, 10]\n"
     ]
    }
   ],
   "source": [
    "import random\n",
    "\n",
    "alist=[]\n",
    "n = 10\n",
    "for i in range(n):\n",
    "    a = random.randint(1, n)\n",
    "    alist.append(a)\n",
    "\n",
    "print(alist)"
   ]
  },
  {
   "cell_type": "code",
   "execution_count": 22,
   "metadata": {},
   "outputs": [
    {
     "name": "stdout",
     "output_type": "stream",
     "text": [
      "[8, 4, 6, 3, 5, 1, 9, 2, 7, 10]\n"
     ]
    }
   ],
   "source": [
    "import random\n",
    " \n",
    "\n",
    "n = 10\n",
    "a = random.sample(range(1, n + 1), n)\n",
    "print(a)\n"
   ]
  },
  {
   "cell_type": "code",
   "execution_count": 18,
   "metadata": {},
   "outputs": [
    {
     "name": "stdout",
     "output_type": "stream",
     "text": [
      "[7, 1, 10, 8, 5, 4, 9, 2, 6, 3]\n"
     ]
    }
   ],
   "source": [
    "import random\n",
    " \n",
    "alist=[]      \n",
    "n = 10        \n",
    "for i in range(n):\n",
    "    a = random.randint(1, n) \n",
    "    while a in alist:\n",
    "        a = random.randint(1, n) \n",
    "    alist.append(a)\n",
    "\n",
    "print(alist)"
   ]
  },
  {
   "cell_type": "code",
   "execution_count": 19,
   "metadata": {},
   "outputs": [
    {
     "name": "stdout",
     "output_type": "stream",
     "text": [
      "[8, 5, 4, 7, 2, 9, 1, 3, 10, 6]\n"
     ]
    }
   ],
   "source": [
    "import random\n",
    "\n",
    "alist=[]      \n",
    "\n",
    "def randomInt(n):\n",
    "    for i in range(n):\n",
    "        a = random.randint(1, n) \n",
    "        while a in alist:\n",
    "            a = random.randint(1, n) \n",
    "        alist.append(a)\n",
    "    return alist\n",
    "\n",
    "print(randomInt(10))\n"
   ]
  },
  {
   "cell_type": "code",
   "execution_count": 28,
   "metadata": {},
   "outputs": [
    {
     "name": "stdout",
     "output_type": "stream",
     "text": [
      "[8, 2, 4, 7, 9]\n"
     ]
    }
   ],
   "source": [
    "import random\n",
    "\n",
    "alist=[]      \n",
    "n = 10\n",
    "\n",
    "def recursive_randomInt(count):\n",
    "    while count == 0:\n",
    "        print(alist)\n",
    "        return alist\n",
    "    a = random.randint(1, n) \n",
    "    while a in alist:\n",
    "        a = random.randint(1, n) \n",
    "    alist.append(a)\n",
    "    count -= 1\n",
    "    recursive_randomInt(count)\n",
    "    \n",
    "recursive_randomInt(10)\n"
   ]
  }
 ],
 "metadata": {
  "kernelspec": {
   "display_name": "Python 3",
   "language": "python",
   "name": "python3"
  },
  "language_info": {
   "codemirror_mode": {
    "name": "ipython",
    "version": 3
   },
   "file_extension": ".py",
   "mimetype": "text/x-python",
   "name": "python",
   "nbconvert_exporter": "python",
   "pygments_lexer": "ipython3",
   "version": "3.10.14"
  }
 },
 "nbformat": 4,
 "nbformat_minor": 2
}
