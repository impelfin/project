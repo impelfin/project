{
 "cells": [
  {
   "cell_type": "code",
   "execution_count": null,
   "metadata": {},
   "outputs": [
    {
     "ename": "",
     "evalue": "",
     "output_type": "error",
     "traceback": [
      "\u001b[1;31mRunning cells with 'Python' requires the ipykernel package.\n",
      "\u001b[1;31mRun the following command to install 'ipykernel' into the Python environment. \n",
      "\u001b[1;31mCommand: '/Users/lune/Downloads/song/.venv/bin/python -m pip install ipykernel -U --user --force-reinstall'"
     ]
    }
   ],
   "source": [
    "import pandas as pd"
   ]
  },
  {
   "cell_type": "code",
   "execution_count": 3,
   "metadata": {},
   "outputs": [],
   "source": [
    "import json"
   ]
  },
  {
   "cell_type": "code",
   "execution_count": 4,
   "metadata": {},
   "outputs": [],
   "source": [
    "df = pd.read_csv('data.csv',  encoding='cp949')"
   ]
  },
  {
   "cell_type": "code",
   "execution_count": 5,
   "metadata": {},
   "outputs": [
    {
     "data": {
      "text/html": [
       "<div>\n",
       "<style scoped>\n",
       "    .dataframe tbody tr th:only-of-type {\n",
       "        vertical-align: middle;\n",
       "    }\n",
       "\n",
       "    .dataframe tbody tr th {\n",
       "        vertical-align: top;\n",
       "    }\n",
       "\n",
       "    .dataframe thead th {\n",
       "        text-align: right;\n",
       "    }\n",
       "</style>\n",
       "<table border=\"1\" class=\"dataframe\">\n",
       "  <thead>\n",
       "    <tr style=\"text-align: right;\">\n",
       "      <th></th>\n",
       "      <th>기준_년분기_코드</th>\n",
       "      <th>상권_구분_코드</th>\n",
       "      <th>상권_구분_코드_명</th>\n",
       "      <th>상권_코드</th>\n",
       "      <th>상권_코드_명</th>\n",
       "      <th>서비스_업종_코드</th>\n",
       "      <th>서비스_업종_코드_명</th>\n",
       "      <th>당월_매출_금액</th>\n",
       "      <th>당월_매출_건수</th>\n",
       "      <th>주중_매출_금액</th>\n",
       "      <th>...</th>\n",
       "      <th>시간대_건수~21_매출_건수</th>\n",
       "      <th>시간대_건수~24_매출_건수</th>\n",
       "      <th>남성_매출_건수</th>\n",
       "      <th>여성_매출_건수</th>\n",
       "      <th>연령대_10_매출_건수</th>\n",
       "      <th>연령대_20_매출_건수</th>\n",
       "      <th>연령대_30_매출_건수</th>\n",
       "      <th>연령대_40_매출_건수</th>\n",
       "      <th>연령대_50_매출_건수</th>\n",
       "      <th>연령대_60_이상_매출_건수</th>\n",
       "    </tr>\n",
       "  </thead>\n",
       "  <tbody>\n",
       "    <tr>\n",
       "      <th>0</th>\n",
       "      <td>20221</td>\n",
       "      <td>D</td>\n",
       "      <td>발달상권</td>\n",
       "      <td>3120068</td>\n",
       "      <td>사가정역</td>\n",
       "      <td>CS200016</td>\n",
       "      <td>당구장</td>\n",
       "      <td>6207432.0</td>\n",
       "      <td>362</td>\n",
       "      <td>3619902.0</td>\n",
       "      <td>...</td>\n",
       "      <td>163</td>\n",
       "      <td>82</td>\n",
       "      <td>347</td>\n",
       "      <td>15</td>\n",
       "      <td>0</td>\n",
       "      <td>42</td>\n",
       "      <td>38</td>\n",
       "      <td>45</td>\n",
       "      <td>150</td>\n",
       "      <td>87</td>\n",
       "    </tr>\n",
       "    <tr>\n",
       "      <th>1</th>\n",
       "      <td>20221</td>\n",
       "      <td>A</td>\n",
       "      <td>골목상권</td>\n",
       "      <td>3110316</td>\n",
       "      <td>숭곡초등학교</td>\n",
       "      <td>CS300033</td>\n",
       "      <td>철물점</td>\n",
       "      <td>11755885.0</td>\n",
       "      <td>69</td>\n",
       "      <td>11755885.0</td>\n",
       "      <td>...</td>\n",
       "      <td>0</td>\n",
       "      <td>0</td>\n",
       "      <td>69</td>\n",
       "      <td>0</td>\n",
       "      <td>0</td>\n",
       "      <td>0</td>\n",
       "      <td>0</td>\n",
       "      <td>69</td>\n",
       "      <td>0</td>\n",
       "      <td>0</td>\n",
       "    </tr>\n",
       "    <tr>\n",
       "      <th>2</th>\n",
       "      <td>20221</td>\n",
       "      <td>R</td>\n",
       "      <td>전통시장</td>\n",
       "      <td>3130032</td>\n",
       "      <td>인현시장</td>\n",
       "      <td>CS200037</td>\n",
       "      <td>노래방</td>\n",
       "      <td>49610438.0</td>\n",
       "      <td>339</td>\n",
       "      <td>37313834.0</td>\n",
       "      <td>...</td>\n",
       "      <td>255</td>\n",
       "      <td>84</td>\n",
       "      <td>296</td>\n",
       "      <td>0</td>\n",
       "      <td>0</td>\n",
       "      <td>0</td>\n",
       "      <td>169</td>\n",
       "      <td>0</td>\n",
       "      <td>127</td>\n",
       "      <td>0</td>\n",
       "    </tr>\n",
       "    <tr>\n",
       "      <th>3</th>\n",
       "      <td>20221</td>\n",
       "      <td>D</td>\n",
       "      <td>발달상권</td>\n",
       "      <td>3120105</td>\n",
       "      <td>상수역(홍대)</td>\n",
       "      <td>CS300001</td>\n",
       "      <td>슈퍼마켓</td>\n",
       "      <td>4091445.0</td>\n",
       "      <td>236</td>\n",
       "      <td>2589971.0</td>\n",
       "      <td>...</td>\n",
       "      <td>148</td>\n",
       "      <td>0</td>\n",
       "      <td>0</td>\n",
       "      <td>236</td>\n",
       "      <td>0</td>\n",
       "      <td>148</td>\n",
       "      <td>88</td>\n",
       "      <td>0</td>\n",
       "      <td>0</td>\n",
       "      <td>0</td>\n",
       "    </tr>\n",
       "    <tr>\n",
       "      <th>4</th>\n",
       "      <td>20221</td>\n",
       "      <td>A</td>\n",
       "      <td>골목상권</td>\n",
       "      <td>3110431</td>\n",
       "      <td>상계역</td>\n",
       "      <td>CS300001</td>\n",
       "      <td>슈퍼마켓</td>\n",
       "      <td>1828934.0</td>\n",
       "      <td>16</td>\n",
       "      <td>1828934.0</td>\n",
       "      <td>...</td>\n",
       "      <td>6</td>\n",
       "      <td>0</td>\n",
       "      <td>0</td>\n",
       "      <td>16</td>\n",
       "      <td>0</td>\n",
       "      <td>0</td>\n",
       "      <td>0</td>\n",
       "      <td>0</td>\n",
       "      <td>10</td>\n",
       "      <td>6</td>\n",
       "    </tr>\n",
       "  </tbody>\n",
       "</table>\n",
       "<p>5 rows × 55 columns</p>\n",
       "</div>"
      ],
      "text/plain": [
       "   기준_년분기_코드 상권_구분_코드 상권_구분_코드_명    상권_코드  상권_코드_명 서비스_업종_코드 서비스_업종_코드_명  \\\n",
       "0      20221        D       발달상권  3120068     사가정역  CS200016         당구장   \n",
       "1      20221        A       골목상권  3110316   숭곡초등학교  CS300033         철물점   \n",
       "2      20221        R       전통시장  3130032     인현시장  CS200037         노래방   \n",
       "3      20221        D       발달상권  3120105  상수역(홍대)  CS300001        슈퍼마켓   \n",
       "4      20221        A       골목상권  3110431      상계역  CS300001        슈퍼마켓   \n",
       "\n",
       "     당월_매출_금액  당월_매출_건수    주중_매출_금액  ...  시간대_건수~21_매출_건수  시간대_건수~24_매출_건수  \\\n",
       "0   6207432.0       362   3619902.0  ...              163               82   \n",
       "1  11755885.0        69  11755885.0  ...                0                0   \n",
       "2  49610438.0       339  37313834.0  ...              255               84   \n",
       "3   4091445.0       236   2589971.0  ...              148                0   \n",
       "4   1828934.0        16   1828934.0  ...                6                0   \n",
       "\n",
       "   남성_매출_건수  여성_매출_건수  연령대_10_매출_건수  연령대_20_매출_건수  연령대_30_매출_건수  연령대_40_매출_건수  \\\n",
       "0       347        15             0            42            38            45   \n",
       "1        69         0             0             0             0            69   \n",
       "2       296         0             0             0           169             0   \n",
       "3         0       236             0           148            88             0   \n",
       "4         0        16             0             0             0             0   \n",
       "\n",
       "   연령대_50_매출_건수  연령대_60_이상_매출_건수  \n",
       "0           150               87  \n",
       "1             0                0  \n",
       "2           127                0  \n",
       "3             0                0  \n",
       "4            10                6  \n",
       "\n",
       "[5 rows x 55 columns]"
      ]
     },
     "execution_count": 5,
     "metadata": {},
     "output_type": "execute_result"
    }
   ],
   "source": [
    "df.head()"
   ]
  },
  {
   "cell_type": "code",
   "execution_count": 6,
   "metadata": {},
   "outputs": [],
   "source": [
    "unique_quarters = df['기준_년분기_코드'].unique()\n",
    "unique_trade_areas = df['상권_코드_명'].unique()\n",
    "unique_service_types = df['서비스_업종_코드_명'].unique()"
   ]
  },
  {
   "cell_type": "code",
   "execution_count": 7,
   "metadata": {},
   "outputs": [
    {
     "data": {
      "text/plain": [
       "array([20221, 20222, 20223, 20224])"
      ]
     },
     "execution_count": 7,
     "metadata": {},
     "output_type": "execute_result"
    }
   ],
   "source": [
    "unique_quarters"
   ]
  },
  {
   "cell_type": "code",
   "execution_count": 8,
   "metadata": {},
   "outputs": [
    {
     "data": {
      "text/plain": [
       "63"
      ]
     },
     "execution_count": 8,
     "metadata": {},
     "output_type": "execute_result"
    }
   ],
   "source": [
    "len(unique_service_types)"
   ]
  },
  {
   "cell_type": "code",
   "execution_count": 9,
   "metadata": {},
   "outputs": [
    {
     "data": {
      "text/plain": [
       "1564"
      ]
     },
     "execution_count": 9,
     "metadata": {},
     "output_type": "execute_result"
    }
   ],
   "source": [
    "len(unique_trade_areas)"
   ]
  },
  {
   "cell_type": "markdown",
   "metadata": {},
   "source": [
    "# json 만들기 테스트 (교수님 여기부터요)"
   ]
  },
  {
   "cell_type": "code",
   "execution_count": 10,
   "metadata": {},
   "outputs": [],
   "source": [
    "male_data = df.copy()\n",
    "female_data = df.copy()\n",
    "\n",
    "\n",
    "\n",
    "male_data['성별'] = '남성'\n",
    "female_data['성별'] = '여성'\n",
    "\n",
    "male_data['성별_매출_금액'] = df['남성_매출_건수']\n",
    "female_data['성별_매출_금액'] = df['여성_매출_건수']"
   ]
  },
  {
   "cell_type": "code",
   "execution_count": 11,
   "metadata": {},
   "outputs": [
    {
     "data": {
      "text/html": [
       "<div>\n",
       "<style scoped>\n",
       "    .dataframe tbody tr th:only-of-type {\n",
       "        vertical-align: middle;\n",
       "    }\n",
       "\n",
       "    .dataframe tbody tr th {\n",
       "        vertical-align: top;\n",
       "    }\n",
       "\n",
       "    .dataframe thead th {\n",
       "        text-align: right;\n",
       "    }\n",
       "</style>\n",
       "<table border=\"1\" class=\"dataframe\">\n",
       "  <thead>\n",
       "    <tr style=\"text-align: right;\">\n",
       "      <th></th>\n",
       "      <th>성별</th>\n",
       "      <th>기준_년분기_코드</th>\n",
       "      <th>서비스_업종_코드_명</th>\n",
       "      <th>상권_코드_명</th>\n",
       "      <th>성별_매출_금액</th>\n",
       "    </tr>\n",
       "  </thead>\n",
       "  <tbody>\n",
       "    <tr>\n",
       "      <th>0</th>\n",
       "      <td>남성</td>\n",
       "      <td>20221</td>\n",
       "      <td>PC방</td>\n",
       "      <td>KB국민은행 망원동지점</td>\n",
       "      <td>13694</td>\n",
       "    </tr>\n",
       "    <tr>\n",
       "      <th>1</th>\n",
       "      <td>남성</td>\n",
       "      <td>20221</td>\n",
       "      <td>PC방</td>\n",
       "      <td>가락시장역</td>\n",
       "      <td>144225</td>\n",
       "    </tr>\n",
       "    <tr>\n",
       "      <th>2</th>\n",
       "      <td>남성</td>\n",
       "      <td>20221</td>\n",
       "      <td>PC방</td>\n",
       "      <td>강남역</td>\n",
       "      <td>58010</td>\n",
       "    </tr>\n",
       "    <tr>\n",
       "      <th>3</th>\n",
       "      <td>남성</td>\n",
       "      <td>20221</td>\n",
       "      <td>PC방</td>\n",
       "      <td>강동역 4번(강풀만화거리)</td>\n",
       "      <td>61743</td>\n",
       "    </tr>\n",
       "    <tr>\n",
       "      <th>4</th>\n",
       "      <td>남성</td>\n",
       "      <td>20221</td>\n",
       "      <td>PC방</td>\n",
       "      <td>강서구청</td>\n",
       "      <td>3167</td>\n",
       "    </tr>\n",
       "  </tbody>\n",
       "</table>\n",
       "</div>"
      ],
      "text/plain": [
       "   성별  기준_년분기_코드 서비스_업종_코드_명         상권_코드_명  성별_매출_금액\n",
       "0  남성      20221         PC방    KB국민은행 망원동지점     13694\n",
       "1  남성      20221         PC방           가락시장역    144225\n",
       "2  남성      20221         PC방             강남역     58010\n",
       "3  남성      20221         PC방  강동역 4번(강풀만화거리)     61743\n",
       "4  남성      20221         PC방            강서구청      3167"
      ]
     },
     "execution_count": 11,
     "metadata": {},
     "output_type": "execute_result"
    }
   ],
   "source": [
    "combined_data = pd.concat([male_data, female_data])\n",
    "\n",
    "\n",
    "grouped_gender_data = combined_data.groupby(['성별', '기준_년분기_코드', '서비스_업종_코드_명', '상권_코드_명'])['성별_매출_금액'].sum().reset_index()\n",
    "\n",
    "# Display the grouped data\n",
    "grouped_gender_data.head()\n"
   ]
  },
  {
   "cell_type": "code",
   "execution_count": 12,
   "metadata": {},
   "outputs": [],
   "source": [
    "nested_json = grouped_gender_data.set_index(['성별', '기준_년분기_코드', '서비스_업종_코드_명', '상권_코드_명'])['성별_매출_금액']"
   ]
  },
  {
   "cell_type": "code",
   "execution_count": 13,
   "metadata": {},
   "outputs": [
    {
     "data": {
      "text/plain": [
       "성별  기준_년분기_코드  서비스_업종_코드_명  상권_코드_명       \n",
       "남성  20221      PC방          KB국민은행 망원동지점       13694\n",
       "                            가락시장역             144225\n",
       "                            강남역                58010\n",
       "                            강동역 4번(강풀만화거리)     61743\n",
       "                            강서구청                3167\n",
       "                                               ...  \n",
       "여성  20224      화초           홍대부속여중고앞             106\n",
       "                            홍대입구역(홍대)          25647\n",
       "                            화양사거리                641\n",
       "                            회현역                  786\n",
       "                            효창공원앞역 2번            407\n",
       "Name: 성별_매출_금액, Length: 167146, dtype: int64"
      ]
     },
     "execution_count": 13,
     "metadata": {},
     "output_type": "execute_result"
    }
   ],
   "source": [
    "nested_json"
   ]
  },
  {
   "cell_type": "code",
   "execution_count": 14,
   "metadata": {},
   "outputs": [
    {
     "ename": "",
     "evalue": "",
     "output_type": "error",
     "traceback": [
      "\u001b[1;31mThe Kernel crashed while executing code in the current cell or a previous cell. \n",
      "\u001b[1;31mPlease review the code in the cell(s) to identify a possible cause of the failure. \n",
      "\u001b[1;31mClick <a href='https://aka.ms/vscodeJupyterKernelCrash'>here</a> for more info. \n",
      "\u001b[1;31mView Jupyter <a href='command:jupyter.viewOutput'>log</a> for further details."
     ]
    }
   ],
   "source": [
    "\n",
    "nested_dict = nested_json.groupby(level=[0, 1, 2, 3]).apply(lambda x: x.to_dict()).unstack().unstack().unstack().to_dict()\n",
    "\n",
    "print({k: nested_dict[k] for k in list(nested_dict)[:1]})  \n"
   ]
  },
  {
   "cell_type": "code",
   "execution_count": null,
   "metadata": {},
   "outputs": [
    {
     "ename": "",
     "evalue": "",
     "output_type": "error",
     "traceback": [
      "\u001b[1;31mRunning cells with 'Python 3.12.3' requires the ipykernel package.\n",
      "\u001b[1;31mRun the following command to install 'ipykernel' into the Python environment. \n",
      "\u001b[1;31mCommand: '/opt/homebrew/bin/python3 -m pip install ipykernel -U --user --force-reinstall'"
     ]
    }
   ],
   "source": [
    "# json_data = grouped_gender_data.set_index(['성별', '기준_년분기_코드', '서비스_업종_코드_명', '상권_코드_명']).unstack().to_json(force_ascii=False)"
   ]
  },
  {
   "cell_type": "code",
   "execution_count": null,
   "metadata": {},
   "outputs": [
    {
     "ename": "",
     "evalue": "",
     "output_type": "error",
     "traceback": [
      "\u001b[1;31mRunning cells with 'Python 3.12.3' requires the ipykernel package.\n",
      "\u001b[1;31mRun the following command to install 'ipykernel' into the Python environment. \n",
      "\u001b[1;31mCommand: '/opt/homebrew/bin/python3 -m pip install ipykernel -U --user --force-reinstall'"
     ]
    }
   ],
   "source": [
    "# check = json.loads(json_data)"
   ]
  },
  {
   "cell_type": "code",
   "execution_count": null,
   "metadata": {},
   "outputs": [
    {
     "ename": "",
     "evalue": "",
     "output_type": "error",
     "traceback": [
      "\u001b[1;31mRunning cells with 'Python 3.12.3' requires the ipykernel package.\n",
      "\u001b[1;31mRun the following command to install 'ipykernel' into the Python environment. \n",
      "\u001b[1;31mCommand: '/opt/homebrew/bin/python3 -m pip install ipykernel -U --user --force-reinstall'"
     ]
    }
   ],
   "source": []
  }
 ],
 "metadata": {
  "kernelspec": {
   "display_name": "cg",
   "language": "python",
   "name": "python3"
  },
  "language_info": {
   "codemirror_mode": {
    "name": "ipython",
    "version": 3
   },
   "file_extension": ".py",
   "mimetype": "text/x-python",
   "name": "python",
   "nbconvert_exporter": "python",
   "pygments_lexer": "ipython3",
   "version": "3.12.3"
  }
 },
 "nbformat": 4,
 "nbformat_minor": 2
}
