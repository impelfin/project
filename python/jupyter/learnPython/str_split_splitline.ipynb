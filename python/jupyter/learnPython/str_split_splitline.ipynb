{
 "cells": [
  {
   "cell_type": "code",
   "execution_count": 1,
   "metadata": {},
   "outputs": [
    {
     "name": "stdout",
     "output_type": "stream",
     "text": [
      "Hello, World!\n"
     ]
    }
   ],
   "source": [
    "# 예제: 공백을 기준으로 문자열 분리\n",
    "str = \"Hello, World!\"\n",
    "words = str.split()\n",
    "print(str)  # 결과 : ['Hello,', 'World!']"
   ]
  },
  {
   "cell_type": "code",
   "execution_count": 2,
   "metadata": {},
   "outputs": [
    {
     "name": "stdout",
     "output_type": "stream",
     "text": [
      "['서울', '부산', '대구', '대전']\n"
     ]
    }
   ],
   "source": [
    "# 예제: 쉼표(,)를 기준으로 문자열 분리\n",
    "str = \"서울,부산,대구,대전\"\n",
    "city = str.split(',')\n",
    "print(city)  # 결과 : ['서울', '부산', '대구', '대전']"
   ]
  },
  {
   "cell_type": "code",
   "execution_count": 3,
   "metadata": {},
   "outputs": [
    {
     "name": "stdout",
     "output_type": "stream",
     "text": [
      "['서울', '부산', '대구', '대전']\n"
     ]
    }
   ],
   "source": [
    "# 예제: 여러 줄로 이루어진 문자열을 각 줄로 분리\n",
    "str = \"서울\\n부산\\n대구\\n대전\"\n",
    "lines = str.splitlines()\n",
    "print(lines)  # 결과 : ['서울', '부산', '대구', '대전']"
   ]
  },
  {
   "cell_type": "code",
   "execution_count": 4,
   "metadata": {},
   "outputs": [
    {
     "name": "stdout",
     "output_type": "stream",
     "text": [
      "['서울', '부산', '대구,대전']\n"
     ]
    }
   ],
   "source": [
    "# 예제: 쉼표(,)를 기준으로 최대 2번만 문자열 분리\n",
    "str = \"서울,부산,대구,대전\"\n",
    "city = str.split(',', 2) # 최대 2번만 수행\n",
    "print(city)  # 결과 : ['서울', '부산', '대구,대전']"
   ]
  }
 ],
 "metadata": {
  "kernelspec": {
   "display_name": "Python 3",
   "language": "python",
   "name": "python3"
  },
  "language_info": {
   "codemirror_mode": {
    "name": "ipython",
    "version": 3
   },
   "file_extension": ".py",
   "mimetype": "text/x-python",
   "name": "python",
   "nbconvert_exporter": "python",
   "pygments_lexer": "ipython3",
   "version": "3.10.14"
  }
 },
 "nbformat": 4,
 "nbformat_minor": 2
}
