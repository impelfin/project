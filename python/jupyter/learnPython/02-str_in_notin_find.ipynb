{
 "cells": [
  {
   "cell_type": "code",
   "execution_count": 1,
   "metadata": {},
   "outputs": [
    {
     "name": "stdout",
     "output_type": "stream",
     "text": [
      "검색 문자열이 메인 문자열에 포함되어 있습니다.\n"
     ]
    }
   ],
   "source": [
    "main_string = \"이것은 샘플 문자열입니다.\"\n",
    "search_string = \"샘플\"\n",
    "\n",
    "if search_string in main_string:\n",
    "    print(\"검색 문자열이 메인 문자열에 포함되어 있습니다.\")\n",
    "else:\n",
    "    print(\"검색 문자열이 메인 문자열에 포함되어 있지 않습니다.\")"
   ]
  },
  {
   "cell_type": "code",
   "execution_count": 2,
   "metadata": {},
   "outputs": [
    {
     "name": "stdout",
     "output_type": "stream",
     "text": [
      "검색 문자열이 메인 문자열에 포함되어 있지 않습니다.\n"
     ]
    }
   ],
   "source": [
    "main_string = \"이것은 샘플 문자열입니다.\"\n",
    "search_string = \"샘플\"\n",
    "\n",
    "if search_string not in main_string:\n",
    "    print(\"검색 문자열이 메인 문자열에 포함되어 있습니다.\")\n",
    "else:\n",
    "    print(\"검색 문자열이 메인 문자열에 포함되어 있지 않습니다.\")"
   ]
  },
  {
   "cell_type": "code",
   "execution_count": 3,
   "metadata": {},
   "outputs": [
    {
     "name": "stdout",
     "output_type": "stream",
     "text": [
      "검색 문자열이 메인 문자열에 포함되어 있습니다.\n"
     ]
    }
   ],
   "source": [
    "main_string = \"이것은 샘플 문자열입니다.\"\n",
    "search_string = \"샘플\"\n",
    "\n",
    "if main_string.find(search_string) != -1:\n",
    "    print(\"검색 문자열이 메인 문자열에 포함되어 있습니다.\")\n",
    "else:\n",
    "    print(\"검색 문자열이 메인 문자열에 포함되어 있지 않습니다.\")"
   ]
  }
 ],
 "metadata": {
  "kernelspec": {
   "display_name": "Python 3",
   "language": "python",
   "name": "python3"
  },
  "language_info": {
   "codemirror_mode": {
    "name": "ipython",
    "version": 3
   },
   "file_extension": ".py",
   "mimetype": "text/x-python",
   "name": "python",
   "nbconvert_exporter": "python",
   "pygments_lexer": "ipython3",
   "version": "3.10.14"
  }
 },
 "nbformat": 4,
 "nbformat_minor": 2
}
