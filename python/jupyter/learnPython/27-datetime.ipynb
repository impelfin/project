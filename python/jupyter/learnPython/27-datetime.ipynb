{
 "cells": [
  {
   "cell_type": "code",
   "execution_count": 5,
   "metadata": {},
   "outputs": [
    {
     "name": "stdout",
     "output_type": "stream",
     "text": [
      "현재 날짜와 시간 :  2024-04-28 02:38:14.571314\n"
     ]
    }
   ],
   "source": [
    "import datetime\n",
    "\n",
    "# 현재 날짜와 시간을 가져옵니다.\n",
    "current = datetime.datetime.now()\n",
    "\n",
    "# 현재 날짜와 시간 출력 (년-월-일 시:분:초.마이크로초)\n",
    "print(\"현재 날짜와 시간 : \", current)"
   ]
  },
  {
   "cell_type": "code",
   "execution_count": 6,
   "metadata": {},
   "outputs": [
    {
     "name": "stdout",
     "output_type": "stream",
     "text": [
      "현재 날짜: 2024-04-28\n"
     ]
    }
   ],
   "source": [
    "# 현재 날짜 출력 (년, 월, 일)\n",
    "print(\"현재 날짜:\", current.date())"
   ]
  },
  {
   "cell_type": "code",
   "execution_count": 7,
   "metadata": {},
   "outputs": [
    {
     "name": "stdout",
     "output_type": "stream",
     "text": [
      "현재 시간: 02:38:14.571314\n"
     ]
    }
   ],
   "source": [
    "# 현재 시간 출력 (시, 분, 초, 마이크로초)\n",
    "print(\"현재 시간:\", current.time())"
   ]
  },
  {
   "cell_type": "code",
   "execution_count": 8,
   "metadata": {},
   "outputs": [
    {
     "name": "stdout",
     "output_type": "stream",
     "text": [
      "timestamp :  1714239494.571314\n",
      "년 :  2024\n",
      "월 :  4\n",
      "일 :  28\n",
      "시 :  2\n",
      "분 :  38\n",
      "초 :  14\n",
      "마이크로초 :  571314\n",
      "요일 :  6\n"
     ]
    }
   ],
   "source": [
    "print(\"timestamp : \", current.timestamp())\n",
    "print(\"년 : \", current.year)\n",
    "print(\"월 : \", current.month)\n",
    "print(\"일 : \", current.day)\n",
    "print(\"시 : \", current.hour)\n",
    "print(\"분 : \", current.minute)\n",
    "print(\"초 : \", current.second)\n",
    "print(\"마이크로초 : \", current.microsecond)\n",
    "print(\"요일 : \", current.weekday())"
   ]
  },
  {
   "cell_type": "code",
   "execution_count": 9,
   "metadata": {},
   "outputs": [
    {
     "name": "stdout",
     "output_type": "stream",
     "text": [
      "2024-04-28 02:38:57\n",
      "2024년 04월 28일 02시 38분 57초\n"
     ]
    }
   ],
   "source": [
    "import datetime\n",
    "\n",
    "# 현재 날짜와 시간을 가져옵니다.\n",
    "current = datetime.datetime.now()\n",
    "\n",
    "# 현재 날짜와 시간을 가져옵니다.\n",
    "print(current.strftime('%Y-%m-%d %H:%M:%S')) # yyyy-mm-dd hh:mm:ss\n",
    "print(current.strftime(\"%Y년 %m월 %d일 %H시 %M분 %S초\")) # yyyy년 mm월 dd일 hh시 mm분 ss초"
   ]
  }
 ],
 "metadata": {
  "kernelspec": {
   "display_name": "Python 3",
   "language": "python",
   "name": "python3"
  },
  "language_info": {
   "codemirror_mode": {
    "name": "ipython",
    "version": 3
   },
   "file_extension": ".py",
   "mimetype": "text/x-python",
   "name": "python",
   "nbconvert_exporter": "python",
   "pygments_lexer": "ipython3",
   "version": "3.10.14"
  }
 },
 "nbformat": 4,
 "nbformat_minor": 2
}
