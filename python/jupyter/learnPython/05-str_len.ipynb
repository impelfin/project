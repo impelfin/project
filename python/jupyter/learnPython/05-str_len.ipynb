{
 "cells": [
  {
   "cell_type": "code",
   "execution_count": 1,
   "metadata": {},
   "outputs": [
    {
     "name": "stdout",
     "output_type": "stream",
     "text": [
      "13\n",
      "0\n",
      "3\n",
      "5\n"
     ]
    }
   ],
   "source": [
    "str = \"Hello, World!\"\n",
    "print(len(str)) # 결과 : 13\n",
    "\n",
    "print(len(\"\")) # 결과 : 0\n",
    "print(len(\"123\")) # 결과 : 3\n",
    "print(len(\"안녕하세요\")) # 결과 : 5"
   ]
  },
  {
   "cell_type": "code",
   "execution_count": 2,
   "metadata": {},
   "outputs": [
    {
     "name": "stdout",
     "output_type": "stream",
     "text": [
      "5\n"
     ]
    }
   ],
   "source": [
    "ex_list = [1, 2, 3, 4, 5]\n",
    "length = len(ex_list)\n",
    "print(length)  # 결과: 5"
   ]
  },
  {
   "cell_type": "code",
   "execution_count": 3,
   "metadata": {},
   "outputs": [
    {
     "name": "stdout",
     "output_type": "stream",
     "text": [
      "3\n"
     ]
    }
   ],
   "source": [
    "ex_tuple = (1, 'hello', 3.14)\n",
    "length = len(ex_tuple)\n",
    "print(length)  # 결과: 3"
   ]
  },
  {
   "cell_type": "code",
   "execution_count": 4,
   "metadata": {},
   "outputs": [
    {
     "name": "stdout",
     "output_type": "stream",
     "text": [
      "3\n"
     ]
    }
   ],
   "source": [
    "ex_dict = {'a': 1, 'b': 2, 'c': 3}\n",
    "length = len(ex_dict)\n",
    "print(length)  # 결과: 3 (딕셔너리는 키-값 쌍의 개수를 세어줍니다.)"
   ]
  }
 ],
 "metadata": {
  "kernelspec": {
   "display_name": "Python 3",
   "language": "python",
   "name": "python3"
  },
  "language_info": {
   "codemirror_mode": {
    "name": "ipython",
    "version": 3
   },
   "file_extension": ".py",
   "mimetype": "text/x-python",
   "name": "python",
   "nbconvert_exporter": "python",
   "pygments_lexer": "ipython3",
   "version": "3.10.14"
  }
 },
 "nbformat": 4,
 "nbformat_minor": 2
}
