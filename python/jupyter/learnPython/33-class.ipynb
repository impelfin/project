{
 "cells": [
  {
   "cell_type": "code",
   "execution_count": 1,
   "metadata": {},
   "outputs": [],
   "source": [
    "# 클래스 정의하기\n",
    "class Person:\n",
    "    def __init__(self, name, age):\n",
    "        self.name = name\n",
    "        self.age = age\n",
    "\n",
    "    def f_print(self):\n",
    "        print(\"My name is {0}\".format(self.name))\n",
    "        print(\"My age is {0}\".format(self.age))"
   ]
  },
  {
   "cell_type": "code",
   "execution_count": 2,
   "metadata": {},
   "outputs": [],
   "source": [
    "# 객체 생성하기\n",
    "p1 = Person(\"홍길동\", 30)\n",
    "p2 = Person(\"이순신\", 20)"
   ]
  },
  {
   "cell_type": "code",
   "execution_count": 3,
   "metadata": {},
   "outputs": [
    {
     "name": "stdout",
     "output_type": "stream",
     "text": [
      "홍길동\n",
      "장영실\n"
     ]
    }
   ],
   "source": [
    "# 속성에 접근하기\n",
    "p2.name = \"장영실\"\n",
    "p2.age = 40\n",
    "\n",
    "print(p1.name)\n",
    "print(p2.name)"
   ]
  },
  {
   "cell_type": "code",
   "execution_count": 4,
   "metadata": {},
   "outputs": [
    {
     "name": "stdout",
     "output_type": "stream",
     "text": [
      "My name is 홍길동\n",
      "My age is 30\n",
      "My name is 장영실\n",
      "My age is 40\n"
     ]
    }
   ],
   "source": [
    "# 메서드 호출하기\n",
    "p1.f_print()\n",
    "p2.f_print()"
   ]
  },
  {
   "cell_type": "code",
   "execution_count": 5,
   "metadata": {},
   "outputs": [
    {
     "name": "stdout",
     "output_type": "stream",
     "text": [
      "객체가 생성 되었습니다.\n",
      "객체가 삭제 되었습니다.\n"
     ]
    }
   ],
   "source": [
    "# 클래스의 속성 삭제하기\n",
    "class Person:\n",
    "    def __init__(self, name):\n",
    "        self.name = name\n",
    "        print(\"객체가 생성 되었습니다.\")\n",
    "    \n",
    "    def __del__(self):\n",
    "        print(\"객체가 삭제 되었습니다.\")\n",
    "\n",
    "p1 = Person(\"홍길동\")\n",
    "del p1.name\n",
    "del p1"
   ]
  },
  {
   "cell_type": "code",
   "execution_count": 6,
   "metadata": {},
   "outputs": [
    {
     "name": "stdout",
     "output_type": "stream",
     "text": [
      "20\n",
      "20\n",
      "30\n",
      "10\n"
     ]
    }
   ],
   "source": [
    "# 클래스 속성과 인스턴스 속성 \n",
    "class ExClass:\n",
    "    class_variable = 0 # 클래스 변수\n",
    "\n",
    "    def __init__(self, value):\n",
    "        self.instance_variable = value # 인스턴스 변수\n",
    "\n",
    "ex1 = ExClass(10) # 인스턴스 변수 초기화 : 10\n",
    "ex2 = ExClass(10) # 인스턴스 변수 초기화 : 10\n",
    "\n",
    "ExClass.class_variable = 20 # 클래스 변수 변경 (모든 객체가 변경된 값을 공유)\n",
    "print(ex1.class_variable)  # 20\n",
    "print(ex2.class_variable)  # 20\n",
    "\n",
    "ex1.instance_variable = 30 # 인스턴스 변수 변경 (객체 하나만 값이 변경 됨)\n",
    "print(ex1.instance_variable)  # 30\n",
    "print(ex2.instance_variable)  # 10"
   ]
  }
 ],
 "metadata": {
  "kernelspec": {
   "display_name": "Python 3",
   "language": "python",
   "name": "python3"
  },
  "language_info": {
   "codemirror_mode": {
    "name": "ipython",
    "version": 3
   },
   "file_extension": ".py",
   "mimetype": "text/x-python",
   "name": "python",
   "nbconvert_exporter": "python",
   "pygments_lexer": "ipython3",
   "version": "3.10.14"
  }
 },
 "nbformat": 4,
 "nbformat_minor": 2
}
