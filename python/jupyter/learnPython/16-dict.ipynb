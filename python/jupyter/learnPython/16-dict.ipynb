{
 "cells": [
  {
   "cell_type": "code",
   "execution_count": 1,
   "metadata": {},
   "outputs": [
    {
     "name": "stdout",
     "output_type": "stream",
     "text": [
      "{'apple': 3, 'banana': 5, 'orange': 7}\n"
     ]
    }
   ],
   "source": [
    "fruits = dict(apple=3, banana=5, orange=7)\n",
    "print(fruits)"
   ]
  },
  {
   "cell_type": "code",
   "execution_count": 2,
   "metadata": {},
   "outputs": [
    {
     "name": "stdout",
     "output_type": "stream",
     "text": [
      "{'apple': 3, 'banana': 5, 'orange': 7}\n"
     ]
    }
   ],
   "source": [
    "# key와 value가 하나의 리스트에 저장되어 있는 경우\n",
    "items = [(\"apple\", 3), (\"banana\", 5), (\"orange\", 7)]\n",
    "fruit = dict(items)\n",
    "print(fruit)"
   ]
  },
  {
   "cell_type": "code",
   "execution_count": 3,
   "metadata": {},
   "outputs": [
    {
     "name": "stdout",
     "output_type": "stream",
     "text": [
      "{'apple': 3, 'banana': 5, 'orange': 7}\n"
     ]
    }
   ],
   "source": [
    "# key와 value가 각각의 리스트에 저장되어 있는 경우\n",
    "fruit_names = [\"apple\", \"banana\", \"orange\"]\n",
    "fruit_counts = [3, 5, 7]\n",
    "fruits = dict(zip(fruit_names, fruit_counts))\n",
    "print(fruits)"
   ]
  },
  {
   "cell_type": "code",
   "execution_count": 4,
   "metadata": {},
   "outputs": [
    {
     "name": "stdout",
     "output_type": "stream",
     "text": [
      "{}\n"
     ]
    }
   ],
   "source": [
    "# 빈 사전 생성\n",
    "empty_dict = {}\n",
    "print(empty_dict)"
   ]
  },
  {
   "cell_type": "code",
   "execution_count": 5,
   "metadata": {},
   "outputs": [
    {
     "name": "stdout",
     "output_type": "stream",
     "text": [
      "5\n",
      "3\n"
     ]
    }
   ],
   "source": [
    "fruits = {\"apple\": 5, \"banana\": 3, \"orange\": 2}\n",
    "\n",
    "# 특정 키의 값에 접근\n",
    "apple_count = fruits[\"apple\"]\n",
    "banana_count = fruits[\"banana\"]\n",
    "print(apple_count)  # 출력: 5\n",
    "print(banana_count)  # 출력: 3"
   ]
  },
  {
   "cell_type": "code",
   "execution_count": 6,
   "metadata": {},
   "outputs": [
    {
     "name": "stdout",
     "output_type": "stream",
     "text": [
      "{'apple': 10, 'banana': 3, 'orange': 2}\n"
     ]
    }
   ],
   "source": [
    "fruits = {\"apple\": 5, \"banana\": 3, \"orange\": 2}\n",
    "\n",
    "# 특정 키의 값 수정하기\n",
    "fruits[\"apple\"] = 10\n",
    "print(fruits)  # 출력: {'apple': 10, 'banana': 3, 'orange': 2}"
   ]
  },
  {
   "cell_type": "code",
   "execution_count": 7,
   "metadata": {},
   "outputs": [
    {
     "name": "stdout",
     "output_type": "stream",
     "text": [
      "{'apple': 5, 'orange': 2}\n",
      "5\n",
      "{'orange': 2}\n"
     ]
    }
   ],
   "source": [
    "fruits = {\"apple\": 5, \"banana\": 3, \"orange\": 2}\n",
    "\n",
    "# 특정 키 삭제\n",
    "del fruits[\"banana\"]\n",
    "print(fruits)  # 출력: {'apple': 5, 'orange': 2}\n",
    "\n",
    "# 특정 키를 삭제하면서 반환\n",
    "removed_value = fruits.pop(\"apple\")\n",
    "print(removed_value)\n",
    "print(fruits)  # 출력: {''orange': 2}"
   ]
  },
  {
   "cell_type": "code",
   "execution_count": 8,
   "metadata": {},
   "outputs": [
    {
     "name": "stdout",
     "output_type": "stream",
     "text": [
      "Apple이라는 key가 존재합니다.\n"
     ]
    }
   ],
   "source": [
    "fruits = {\"apple\": 5, \"banana\": 3, \"orange\": 2}\n",
    "\n",
    "# 특정 키가 있는지 확인하기\n",
    "if \"apple\" in fruits:\n",
    "    print(\"Apple이라는 key가 존재합니다.\")"
   ]
  },
  {
   "cell_type": "code",
   "execution_count": 9,
   "metadata": {},
   "outputs": [
    {
     "name": "stdout",
     "output_type": "stream",
     "text": [
      "3\n"
     ]
    }
   ],
   "source": [
    "fruits = {\"apple\": 5, \"banana\": 3, \"orange\": 2}\n",
    "\n",
    "# \"banana\" 키의 값 또는 기본값인 0을 가져옴\n",
    "banana_count = fruits.get(\"banana\", 0)  \n",
    "print(banana_count)"
   ]
  },
  {
   "cell_type": "code",
   "execution_count": 10,
   "metadata": {},
   "outputs": [
    {
     "name": "stdout",
     "output_type": "stream",
     "text": [
      "dict_keys(['apple', 'banana', 'orange'])\n",
      "dict_values([5, 3, 2])\n",
      "dict_items([('apple', 5), ('banana', 3), ('orange', 2)])\n"
     ]
    }
   ],
   "source": [
    "fruits = {\"apple\": 5, \"banana\": 3, \"orange\": 2}\n",
    "\n",
    "keys = fruits.keys()       # 모든 키를 가져옴\n",
    "print(keys)\n",
    "\n",
    "values = fruits.values()   # 모든 값들을 가져옴\n",
    "print(values)\n",
    "\n",
    "items = fruits.items()     # 모든 키-값 쌍을 가져옴\n",
    "print(items)"
   ]
  }
 ],
 "metadata": {
  "kernelspec": {
   "display_name": "Python 3",
   "language": "python",
   "name": "python3"
  },
  "language_info": {
   "codemirror_mode": {
    "name": "ipython",
    "version": 3
   },
   "file_extension": ".py",
   "mimetype": "text/x-python",
   "name": "python",
   "nbconvert_exporter": "python",
   "pygments_lexer": "ipython3",
   "version": "3.10.12"
  }
 },
 "nbformat": 4,
 "nbformat_minor": 2
}
