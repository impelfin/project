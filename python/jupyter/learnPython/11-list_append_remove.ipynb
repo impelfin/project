{
 "cells": [
  {
   "cell_type": "code",
   "execution_count": 1,
   "metadata": {},
   "outputs": [
    {
     "name": "stdout",
     "output_type": "stream",
     "text": [
      "[1, 2, 3]\n"
     ]
    }
   ],
   "source": [
    "ex_list = [1, 2, 3]\n",
    "print(ex_list)"
   ]
  },
  {
   "cell_type": "code",
   "execution_count": 2,
   "metadata": {},
   "outputs": [
    {
     "name": "stdout",
     "output_type": "stream",
     "text": [
      "[1, 2, 3, 4]\n"
     ]
    }
   ],
   "source": [
    "ex_list.append(4)  # 리스트의 끝에 원소 추가\n",
    "print(ex_list)  # [1, 2, 3, 4]"
   ]
  },
  {
   "cell_type": "code",
   "execution_count": 3,
   "metadata": {},
   "outputs": [
    {
     "name": "stdout",
     "output_type": "stream",
     "text": [
      "[1, 10, 2, 3]\n"
     ]
    }
   ],
   "source": [
    "ex_list = [1, 2, 3]\n",
    "ex_list.insert(1, 10)  # 인덱스 1에 원소 10 추가\n",
    "print(ex_list)  # [1, 10, 2, 3]"
   ]
  },
  {
   "cell_type": "code",
   "execution_count": 4,
   "metadata": {},
   "outputs": [
    {
     "name": "stdout",
     "output_type": "stream",
     "text": [
      "[1, 2, 3, 4, 5]\n"
     ]
    }
   ],
   "source": [
    "ex_list = [1, 2, 3]\n",
    "ex_list.extend([4, 5])  # 리스트에 다른 리스트의 원소를 추가\n",
    "print(ex_list)"
   ]
  },
  {
   "cell_type": "code",
   "execution_count": 6,
   "metadata": {},
   "outputs": [
    {
     "name": "stdout",
     "output_type": "stream",
     "text": [
      "[1, 2, 3, 4, 5, 6, 7, 6, 7]\n"
     ]
    }
   ],
   "source": [
    "ex_list += [6, 7]\n",
    "print(ex_list)  # [1, 2, 3, 4, 5, 6, 7]"
   ]
  },
  {
   "cell_type": "code",
   "execution_count": 7,
   "metadata": {},
   "outputs": [
    {
     "name": "stdout",
     "output_type": "stream",
     "text": [
      "['apple', 'banana', 'cherry', 'melon']\n"
     ]
    }
   ],
   "source": [
    "ex_list = [\"apple\", \"banana\", \"cherry\", \"melon\"]\n",
    "print(ex_list)  # ['apple', 'cherry', 'melon']"
   ]
  },
  {
   "cell_type": "code",
   "execution_count": 8,
   "metadata": {},
   "outputs": [
    {
     "name": "stdout",
     "output_type": "stream",
     "text": [
      "['apple', 'cherry', 'melon']\n"
     ]
    }
   ],
   "source": [
    "ex_list.remove(\"banana\")  # 값이 banana인 원소 제거\n",
    "print(ex_list)  # ['apple', 'cherry', 'melon']"
   ]
  },
  {
   "cell_type": "code",
   "execution_count": 9,
   "metadata": {},
   "outputs": [
    {
     "name": "stdout",
     "output_type": "stream",
     "text": [
      "2\n",
      "[1, 3]\n"
     ]
    }
   ],
   "source": [
    "ex_list = [1, 2, 3]\n",
    "popped_value = ex_list.pop(1)  # 인덱스 1의 원소를 제거하고 반환\n",
    "print(popped_value)  # 2\n",
    "print(ex_list)  # [1, 3]\n"
   ]
  },
  {
   "cell_type": "code",
   "execution_count": 10,
   "metadata": {},
   "outputs": [
    {
     "name": "stdout",
     "output_type": "stream",
     "text": [
      "[1, 3]\n"
     ]
    }
   ],
   "source": [
    "ex_list = [1, 2, 3]\n",
    "del ex_list[1]  # 인덱스 1의 원소 제거\n",
    "print(ex_list)  # [1, 3]"
   ]
  },
  {
   "cell_type": "code",
   "execution_count": 11,
   "metadata": {},
   "outputs": [
    {
     "name": "stdout",
     "output_type": "stream",
     "text": [
      "[]\n"
     ]
    }
   ],
   "source": [
    "ex_list = [1, 2, 3]\n",
    "ex_list.clear()  # 모든 원소 제거\n",
    "print(ex_list)  # []"
   ]
  },
  {
   "cell_type": "code",
   "execution_count": 12,
   "metadata": {},
   "outputs": [
    {
     "name": "stdout",
     "output_type": "stream",
     "text": [
      "[1, 2, 4, 5]\n"
     ]
    }
   ],
   "source": [
    "ex_list = [1, 2, 3, 4, 5]\n",
    "ex_list = [x for x in ex_list if x != 3]  # 값이 3인 원소 제거\n",
    "print(ex_list)  # [1, 2, 4, 5]"
   ]
  }
 ],
 "metadata": {
  "kernelspec": {
   "display_name": "Python 3",
   "language": "python",
   "name": "python3"
  },
  "language_info": {
   "codemirror_mode": {
    "name": "ipython",
    "version": 3
   },
   "file_extension": ".py",
   "mimetype": "text/x-python",
   "name": "python",
   "nbconvert_exporter": "python",
   "pygments_lexer": "ipython3",
   "version": "3.10.14"
  }
 },
 "nbformat": 4,
 "nbformat_minor": 2
}
