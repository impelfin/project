{
 "cells": [
  {
   "cell_type": "code",
   "execution_count": 1,
   "metadata": {},
   "outputs": [
    {
     "name": "stdout",
     "output_type": "stream",
     "text": [
      "이름: 홍길동, 나이: 30 키: 175.55\n"
     ]
    }
   ],
   "source": [
    "name = \"홍길동\"\n",
    "age = 30\n",
    "height = 175.55\n",
    "print(\"이름: %s, 나이: %d 키: %.2f\" %(name, age, height))"
   ]
  },
  {
   "cell_type": "code",
   "execution_count": 2,
   "metadata": {},
   "outputs": [
    {
     "name": "stdout",
     "output_type": "stream",
     "text": [
      "이름: 홍길동, 나이: 30, 키: 175.55\n"
     ]
    }
   ],
   "source": [
    "name = \"홍길동\"\n",
    "age = 30\n",
    "height = 175.55\n",
    "formatted_string = \"이름: {}, 나이: {}, 키: {}\".format(name, age, height)\n",
    "print(formatted_string)"
   ]
  },
  {
   "cell_type": "code",
   "execution_count": 3,
   "metadata": {},
   "outputs": [
    {
     "name": "stdout",
     "output_type": "stream",
     "text": [
      "나이: 25, 이름: 홍길동\n"
     ]
    }
   ],
   "source": [
    "name = \"홍길동\"\n",
    "age = 25\n",
    "formatted_string = \"나이: {1}, 이름: {0}\".format(name, age)\n",
    "print(formatted_string)"
   ]
  },
  {
   "cell_type": "code",
   "execution_count": 4,
   "metadata": {},
   "outputs": [
    {
     "name": "stdout",
     "output_type": "stream",
     "text": [
      "이름: 홍길동, 나이: 28\n"
     ]
    }
   ],
   "source": [
    "name = \"홍길동\"\n",
    "age = 28\n",
    "formatted_string = \"이름: {name}, 나이: {age}\".format(name=name, age=age)\n",
    "print(formatted_string)"
   ]
  },
  {
   "cell_type": "code",
   "execution_count": 5,
   "metadata": {},
   "outputs": [
    {
     "name": "stdout",
     "output_type": "stream",
     "text": [
      "이름: 홍길동, 나이: 30, 키: 175.55\n"
     ]
    }
   ],
   "source": [
    "name = \"홍길동\"\n",
    "age = 30\n",
    "height = 175.55\n",
    "formatted_string = f\"이름: {name}, 나이: {age}, 키: {height}\"\n",
    "print(formatted_string)"
   ]
  },
  {
   "cell_type": "code",
   "execution_count": 6,
   "metadata": {},
   "outputs": [
    {
     "name": "stdout",
     "output_type": "stream",
     "text": [
      "원주율: 3.14\n"
     ]
    }
   ],
   "source": [
    "pi = 3.14159\n",
    "\n",
    "# 원주율을 소수점 둘째 자리까지 포맷팅하여 출력합니다.\n",
    "formatted_pi = f\"원주율: {pi:.2f}\"\n",
    "print(formatted_pi)"
   ]
  }
 ],
 "metadata": {
  "kernelspec": {
   "display_name": "Python 3",
   "language": "python",
   "name": "python3"
  },
  "language_info": {
   "codemirror_mode": {
    "name": "ipython",
    "version": 3
   },
   "file_extension": ".py",
   "mimetype": "text/x-python",
   "name": "python",
   "nbconvert_exporter": "python",
   "pygments_lexer": "ipython3",
   "version": "3.10.14"
  }
 },
 "nbformat": 4,
 "nbformat_minor": 2
}
