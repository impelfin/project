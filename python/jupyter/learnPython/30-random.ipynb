{
 "cells": [
  {
   "cell_type": "code",
   "execution_count": 6,
   "metadata": {},
   "outputs": [
    {
     "name": "stdout",
     "output_type": "stream",
     "text": [
      "1\n"
     ]
    }
   ],
   "source": [
    "# 특정 범위의 난수 생성 - randint(x, y)\n",
    "import random\n",
    "\n",
    "random_integer = random.randint(1, 10)\n",
    "print(random_integer)"
   ]
  },
  {
   "cell_type": "code",
   "execution_count": 7,
   "metadata": {},
   "outputs": [
    {
     "name": "stdout",
     "output_type": "stream",
     "text": [
      "8 3\n"
     ]
    }
   ],
   "source": [
    "# 특정 범위의 난수 생성(간격) - randrange(x, y, z)\n",
    "import random\n",
    "\n",
    "random_number1 = random.randrange(1, 10) # 1 ~ 9까지의 난수\n",
    "random_number2 = random.randrange(1, 10, 2) # 1 ~ 9까지 2간격의 난수\n",
    "print(random_number1, random_number2)"
   ]
  },
  {
   "cell_type": "code",
   "execution_count": 8,
   "metadata": {},
   "outputs": [
    {
     "name": "stdout",
     "output_type": "stream",
     "text": [
      "0.655765743908751\n"
     ]
    }
   ],
   "source": [
    "# 부동 소수점 난수 생성 - random( )\n",
    "import random\n",
    "\n",
    "random_number = random.random()\n",
    "print(random_number)"
   ]
  },
  {
   "cell_type": "code",
   "execution_count": 9,
   "metadata": {},
   "outputs": [
    {
     "name": "stdout",
     "output_type": "stream",
     "text": [
      "2.6564382479403754\n"
     ]
    }
   ],
   "source": [
    "# 특정 범위의 부동 소수점 난수 생성 - uniform(x, y)\n",
    "import random\n",
    "\n",
    "random_float = random.uniform(2.0, 5.0)\n",
    "print(random_float)"
   ]
  },
  {
   "cell_type": "code",
   "execution_count": 10,
   "metadata": {},
   "outputs": [
    {
     "name": "stdout",
     "output_type": "stream",
     "text": [
      "광주\n"
     ]
    }
   ],
   "source": [
    "# 리스트, 튜플 등에서 무작위 요소 추출하기 - choice(x)\n",
    "import random\n",
    "\n",
    "ex_list = [\"서울\", \"부산\", \"대구\", \"대전\", \"광주\", \"울산\", \"인천\"]\n",
    "random_element = random.choice(ex_list)\n",
    "print(random_element)"
   ]
  },
  {
   "cell_type": "code",
   "execution_count": 11,
   "metadata": {},
   "outputs": [
    {
     "name": "stdout",
     "output_type": "stream",
     "text": [
      "['대전', '광주', '인천', '대구', '부산', '서울', '울산']\n"
     ]
    }
   ],
   "source": [
    "# 리스트, 튜플 등에서 요소들을 무작위로 섞기 - shuffle(x)\n",
    "import random\n",
    "\n",
    "ex_list = [\"서울\", \"부산\", \"대구\", \"대전\", \"광주\", \"울산\", \"인천\"]\n",
    "random.shuffle(ex_list)\n",
    "print(ex_list)"
   ]
  },
  {
   "cell_type": "code",
   "execution_count": 15,
   "metadata": {},
   "outputs": [
    {
     "name": "stdout",
     "output_type": "stream",
     "text": [
      "로또 번호: [9, 26, 27, 30, 39, 41]\n"
     ]
    }
   ],
   "source": [
    "import random\n",
    "\n",
    "def generate_lotto_numbers():\n",
    "    lotto_numbers = []\n",
    "    \n",
    "    while len(lotto_numbers) < 6:\n",
    "        # 1부터 45까지의 무작위 정수를 생성\n",
    "        number = random.randint(1, 45)\n",
    "        \n",
    "        # 중복된 숫자를 방지하기 위해 이미 생성된 번호인지 확인\n",
    "        if number not in lotto_numbers:\n",
    "            lotto_numbers.append(number)\n",
    "    \n",
    "    return sorted(lotto_numbers)\n",
    "\n",
    "if __name__ == \"__main__\":\n",
    "    lotto_numbers = generate_lotto_numbers()\n",
    "    print(\"로또 번호:\", lotto_numbers)"
   ]
  }
 ],
 "metadata": {
  "kernelspec": {
   "display_name": "Python 3",
   "language": "python",
   "name": "python3"
  },
  "language_info": {
   "codemirror_mode": {
    "name": "ipython",
    "version": 3
   },
   "file_extension": ".py",
   "mimetype": "text/x-python",
   "name": "python",
   "nbconvert_exporter": "python",
   "pygments_lexer": "ipython3",
   "version": "3.10.14"
  }
 },
 "nbformat": 4,
 "nbformat_minor": 2
}
