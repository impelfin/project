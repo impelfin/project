{
 "cells": [
  {
   "cell_type": "code",
   "execution_count": 1,
   "metadata": {},
   "outputs": [
    {
     "name": "stdout",
     "output_type": "stream",
     "text": [
      "H\n",
      "o\n",
      "W\n",
      "!\n",
      "!\n",
      "d\n",
      "o\n",
      "e\n"
     ]
    }
   ],
   "source": [
    "str = \"Hello, World!\"\n",
    "\n",
    "# 양수 인덱스 사용\n",
    "print(str[0])    # 결과 : \"H\"\n",
    "print(str[4])    # 결과 : \"o\"\n",
    "print(str[7])    # 결과 : \"W\"\n",
    "print(str[12])   # 결과 : \"!\"\n",
    "\n",
    "# 음수 인덱스 사용 (역순으로 문자열 탐색)\n",
    "print(str[-1])   # 결과 : \"!\"\n",
    "print(str[-2])   # 결과 : \"d\"\n",
    "print(str[-5])   # 결과 : \"r\"\n",
    "print(str[-12])  # 결과 : \"H\""
   ]
  },
  {
   "cell_type": "code",
   "execution_count": 2,
   "metadata": {},
   "outputs": [
    {
     "name": "stdout",
     "output_type": "stream",
     "text": [
      "Hello\n"
     ]
    }
   ],
   "source": [
    "str = \"Hello, World!\"\n",
    "substr = str[0:5]  \n",
    "substr = str[:5]  # 0은 생략가능\n",
    "print(substr)  # 결과 : \"Hello\""
   ]
  },
  {
   "cell_type": "code",
   "execution_count": 3,
   "metadata": {},
   "outputs": [
    {
     "name": "stdout",
     "output_type": "stream",
     "text": [
      "World!\n"
     ]
    }
   ],
   "source": [
    "str = \"Hello, World!\"\n",
    "substr = str[-6:]  \n",
    "print(substr)  # 결과 : \"World!\""
   ]
  },
  {
   "cell_type": "code",
   "execution_count": 4,
   "metadata": {},
   "outputs": [
    {
     "name": "stdout",
     "output_type": "stream",
     "text": [
      "World!\n",
      "Hello\n"
     ]
    }
   ],
   "source": [
    "str = \"Hello, World!\"\n",
    "print(str[7:len(str)]) # 결과 : World!  \n",
    "print(str[-13:-8]) # 결과 : Hello  "
   ]
  }
 ],
 "metadata": {
  "kernelspec": {
   "display_name": "Python 3",
   "language": "python",
   "name": "python3"
  },
  "language_info": {
   "codemirror_mode": {
    "name": "ipython",
    "version": 3
   },
   "file_extension": ".py",
   "mimetype": "text/x-python",
   "name": "python",
   "nbconvert_exporter": "python",
   "pygments_lexer": "ipython3",
   "version": "3.10.14"
  }
 },
 "nbformat": 4,
 "nbformat_minor": 2
}
