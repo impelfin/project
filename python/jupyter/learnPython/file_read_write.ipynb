{
 "cells": [
  {
   "cell_type": "code",
   "execution_count": 44,
   "metadata": {},
   "outputs": [],
   "source": [
    "# 파일 열기\n",
    "# 변수명 = open(\"파일경로/파일이름.txt\", \"모드\")\n",
    "new_file = open(\"sample.txt\", \"w\")\n",
    "\n",
    "# 파일 닫기\n",
    "new_file.close()"
   ]
  },
  {
   "cell_type": "markdown",
   "metadata": {},
   "source": [
    "![filemode](./temp/filemode.png)"
   ]
  },
  {
   "cell_type": "code",
   "execution_count": 45,
   "metadata": {},
   "outputs": [],
   "source": [
    "# write(): 파일에 내용을 씁니다.\n",
    "file = open(\"sample.txt\", \"w\")\n",
    "file.write(\"파일에 작성할 문자열\")\n",
    "file.close()"
   ]
  },
  {
   "cell_type": "code",
   "execution_count": 46,
   "metadata": {},
   "outputs": [],
   "source": [
    "data = [\"첫 번째 줄\\n\", \"두 번째 줄\\n\", \"세 번째 줄\\n\"]\n",
    "file = open(\"sample.txt\", \"w\")\n",
    "file.writelines(data)\n",
    "file.close()"
   ]
  },
  {
   "cell_type": "code",
   "execution_count": 47,
   "metadata": {},
   "outputs": [
    {
     "name": "stdout",
     "output_type": "stream",
     "text": [
      "첫 번째 줄\n",
      "두 번째 줄\n",
      "세 번째 줄\n",
      "\n"
     ]
    }
   ],
   "source": [
    "# read() : 파일을 읽습니다.\n",
    "file = open(\"sample.txt\", \"r\")\n",
    "content = file.read()\n",
    "print(content)\n",
    "file.close()"
   ]
  },
  {
   "cell_type": "code",
   "execution_count": 48,
   "metadata": {},
   "outputs": [
    {
     "name": "stdout",
     "output_type": "stream",
     "text": [
      "첫 번째 줄\n",
      "\n",
      "두 번째 줄\n",
      "\n",
      "세 번째 줄\n",
      "\n"
     ]
    }
   ],
   "source": [
    "# readline() : 파일에서 한 줄씩 읽습니다.\n",
    "file = open(\"sample.txt\", \"r\")\n",
    "line = file.readline()\n",
    "while line:\n",
    "    print(line)\n",
    "    line = file.readline()\n",
    "file.close()"
   ]
  },
  {
   "cell_type": "code",
   "execution_count": 49,
   "metadata": {},
   "outputs": [
    {
     "name": "stdout",
     "output_type": "stream",
     "text": [
      "첫 번째 줄\n",
      "\n",
      "두 번째 줄\n",
      "\n",
      "세 번째 줄\n",
      "\n"
     ]
    }
   ],
   "source": [
    "# readlines() : 파일의 모든 라인을 각각의 문자열로 읽어 리스트로 반환합니다.\n",
    "file = open(\"sample.txt\", \"r\")\n",
    "lines = file.readlines()\n",
    "for line in lines:\n",
    "    print(line)\n",
    "file.close()"
   ]
  },
  {
   "cell_type": "code",
   "execution_count": 50,
   "metadata": {},
   "outputs": [],
   "source": [
    "# 파일 이어 쓰기 \n",
    "file = open(\"sample.txt\", \"a\")\n",
    "file.write(\"파일에 작성할 문자열1\\n\")\n",
    "file.write(\"파일에 작성할 문자열2\\n\")\n",
    "file.close()"
   ]
  },
  {
   "cell_type": "code",
   "execution_count": 51,
   "metadata": {},
   "outputs": [
    {
     "name": "stdout",
     "output_type": "stream",
     "text": [
      "첫 번째 줄\n",
      "두 번째 줄\n",
      "세 번째 줄\n",
      "파일에 작성할 문자열1\n",
      "파일에 작성할 문자열2\n",
      "\n"
     ]
    }
   ],
   "source": [
    "# read() : 파일을 읽습니다.\n",
    "file = open(\"sample.txt\", \"r\")\n",
    "content = file.read()\n",
    "print(content)\n",
    "file.close()"
   ]
  },
  {
   "cell_type": "code",
   "execution_count": 52,
   "metadata": {},
   "outputs": [],
   "source": [
    "# with문을 사용하여 파일 자동으로 close 하기\n",
    "with open('sample.txt', 'w') as file:\n",
    "  file.write(\"파일에 작성할 문자열1\\n\")\n",
    "  file.write(\"파일에 작성할 문자열2\\n\")"
   ]
  },
  {
   "cell_type": "code",
   "execution_count": 53,
   "metadata": {},
   "outputs": [
    {
     "name": "stdout",
     "output_type": "stream",
     "text": [
      "파일에 작성할 문자열1\n",
      "파일에 작성할 문자열2\n",
      "\n"
     ]
    }
   ],
   "source": [
    "# read() : 파일을 읽습니다.\n",
    "file = open(\"sample.txt\", \"r\")\n",
    "content = file.read()\n",
    "print(content)\n",
    "file.close()"
   ]
  },
  {
   "cell_type": "code",
   "execution_count": 54,
   "metadata": {},
   "outputs": [],
   "source": [
    "# 파일 입출력 오류 처리\n",
    "try:\n",
    "    with open('sample.txt', 'r') as file:\n",
    "        content = file.read()\n",
    "except FileNotFoundError:\n",
    "    print(\"파일을 찾을 수 없습니다.\")\n",
    "except PermissionError:\n",
    "    print(\"파일을 열 권한이 없습니다.\")\n",
    "except IOError as e:\n",
    "    print(f\"파일 읽기 오류: {e}\")"
   ]
  },
  {
   "cell_type": "markdown",
   "metadata": {},
   "source": [
    "![fileerror](./temp/fileerror.png)"
   ]
  }
 ],
 "metadata": {
  "kernelspec": {
   "display_name": "Python 3",
   "language": "python",
   "name": "python3"
  },
  "language_info": {
   "codemirror_mode": {
    "name": "ipython",
    "version": 3
   },
   "file_extension": ".py",
   "mimetype": "text/x-python",
   "name": "python",
   "nbconvert_exporter": "python",
   "pygments_lexer": "ipython3",
   "version": "3.10.14"
  }
 },
 "nbformat": 4,
 "nbformat_minor": 2
}
