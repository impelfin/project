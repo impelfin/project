{
 "cells": [
  {
   "cell_type": "code",
   "execution_count": 1,
   "metadata": {},
   "outputs": [
    {
     "name": "stdout",
     "output_type": "stream",
     "text": [
      "오늘은 지정된 날짜보다 이후입니다.\n"
     ]
    }
   ],
   "source": [
    "from datetime import datetime\n",
    "\n",
    "today = datetime.today()\n",
    "d_day = datetime(2020, 1, 1)\n",
    "\n",
    "if today < d_day:\n",
    "    print(\"오늘은 지정된 날짜보다 이전입니다.\")\n",
    "elif today > d_day:\n",
    "    print(\"오늘은 지정된 날짜보다 이후입니다.\")\n",
    "else:\n",
    "    print(\"오늘과 지정된 날짜가 같습니다.\")"
   ]
  },
  {
   "cell_type": "code",
   "execution_count": 2,
   "metadata": {},
   "outputs": [
    {
     "name": "stdout",
     "output_type": "stream",
     "text": [
      "날짜 차이 : 1579 days, 2:40:08.697917\n",
      "일 수 차이 : 1579\n",
      "마이크로초 차이 : 697917\n",
      "초 차이 : 9608\n",
      "분 차이 : 160.13333333333333\n",
      "시간 차이 : 2.668888888888889\n"
     ]
    }
   ],
   "source": [
    "from datetime import datetime\n",
    "\n",
    "today = datetime.today() # 현재날짜\n",
    "d_day = datetime(2020, 1, 1) # 비교할 날짜(2020.1.1)\n",
    "\n",
    "diff = today - d_day\n",
    "print(\"날짜 차이 :\", diff)\n",
    "print(\"일 수 차이 :\", diff.days) # 일 수 차이\n",
    "print(\"마이크로초 차이 :\", diff.microseconds) # 마이크로초 차이\n",
    "print(\"초 차이 :\", diff.seconds)# 초 차이\n",
    "print(\"분 차이 :\", diff.seconds / 60)# 분 차이\n",
    "print(\"시간 차이 :\", diff.seconds / 3600) # 시간 차이"
   ]
  },
  {
   "cell_type": "code",
   "execution_count": 3,
   "metadata": {},
   "outputs": [
    {
     "name": "stdout",
     "output_type": "stream",
     "text": [
      "두 날짜의 차이는 73 days, 0:00:00입니다.\n",
      "2023-12-27는 2023-10-15보다 늦은 날짜입니다.\n"
     ]
    }
   ],
   "source": [
    "from datetime import datetime\n",
    "\n",
    "# 두 개의 날짜 문자열\n",
    "date_str1 = \"2023-12-27\"\n",
    "date_str2 = \"2023-10-15\"\n",
    "\n",
    "# 문자열을 datetime 객체로 변환\n",
    "date1 = datetime.strptime(date_str1, \"%Y-%m-%d\")\n",
    "date2 = datetime.strptime(date_str2, \"%Y-%m-%d\")\n",
    "\n",
    "# 두 datetime 객체를 비교\n",
    "diff_date = date1 - date2\n",
    "print(f\"두 날짜의 차이는 {diff_date}입니다.\")\n",
    "\n",
    "if date1 < date2:\n",
    "    print(f\"{date_str1}는 {date_str2}보다 이른 날짜입니다.\")\n",
    "elif date1 > date2:\n",
    "    print(f\"{date_str1}는 {date_str2}보다 늦은 날짜입니다.\")\n",
    "else:\n",
    "    print(f\"{date_str1}와 {date_str2}는 같은 날짜입니다.\")"
   ]
  }
 ],
 "metadata": {
  "kernelspec": {
   "display_name": "Python 3",
   "language": "python",
   "name": "python3"
  },
  "language_info": {
   "codemirror_mode": {
    "name": "ipython",
    "version": 3
   },
   "file_extension": ".py",
   "mimetype": "text/x-python",
   "name": "python",
   "nbconvert_exporter": "python",
   "pygments_lexer": "ipython3",
   "version": "3.10.14"
  }
 },
 "nbformat": 4,
 "nbformat_minor": 2
}
