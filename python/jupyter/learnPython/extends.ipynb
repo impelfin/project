{
 "cells": [
  {
   "cell_type": "markdown",
   "metadata": {},
   "source": [
    "**클래스 상속 시 얻는 이점들**\n",
    "\n",
    "코드 재사용 : 상속을 통해 부모 클래스의 속성과 메서드를 자식 클래스에서 그대로 재사용할 수 있습니다. 이를 통하여 중복된 코드를 피할 수 있고 소스코드 유지보수가 쉬워집니다.\n",
    "\n",
    "확장성 : 자식 클래스는 부모 클래스의 기능을 확장하거나 변경할 수 있습니다. 자식 클래스에 새로운 메서드를 추가하거나 부모 클래스의 메서드를 오버라이드하여 원하는 동작을 재정의할 수 있습니다.\n",
    "\n",
    "다형성 : 상속을 통해 클래스의 다형성(polymorphism)을 만족할 수 있습니다. 다형성은 객체가 가질 수 있는 성질이 다양할 수 있다는 것으로 오버로딩, 오버라이딩 등을 통해 자식 클래스 객체가 부모 클래스 타입으로 사용될 수 있고, 객체의 타입에 따라 다른 동작을 할 수 있다는 것을 의미합니다.\n",
    "\n",
    "추상화 : 상속을 사용하여 추상 클래스와 추상 메서드를 정의할 수 있습니다. 추상 클래스는 구체적인 구현을 갖지 않는 메서드를 포함하며, 이러한 메서드는 자식 클래스에서 구체적으로 구현하게 됩니다.\n",
    "\n",
    "계층 구조 구축 : 클래스 상속을 통해 각 객체간의 계층 구조를 구축할 수 있습니다. 이로써 복잡한 시스템을 계층적으로 구성하고, 객체 간의 관계를 명확하게 정의할 수 있습니다."
   ]
  },
  {
   "cell_type": "code",
   "execution_count": 5,
   "metadata": {},
   "outputs": [
    {
     "name": "stdout",
     "output_type": "stream",
     "text": [
      "동물\n",
      "멍멍이\n",
      "멍멍이 says 멍멍!\n",
      "냥냥이\n",
      "냥냥이 says 야옹!\n"
     ]
    }
   ],
   "source": [
    "# 파이썬 클래스 상속 방법 \n",
    "\n",
    "# Animal 클래스 정의\n",
    "class Animal:\n",
    "    def __init__(self, name):\n",
    "        self.name = name\n",
    "\n",
    "    def speak(self):\n",
    "        pass\n",
    "\n",
    "# Dog 클래스 정의 - Animal 클래스 상속\n",
    "class Dog(Animal):\n",
    "    def speak(self):\n",
    "        return f\"{self.name} says 멍멍!\"\n",
    "\n",
    "# Cat 클래스 정의 - Animal 클래스 상속\n",
    "class Cat(Animal):\n",
    "    def speak(self):\n",
    "        return f\"{self.name} says 야옹!\"\n",
    "\n",
    "# Animal 클래스의 인스턴스 생성\n",
    "animal1 = Animal(\"동물\")\n",
    "print(animal1.name) \n",
    "animal1.speak()  # 아무것도 출력되지 않음\n",
    "\n",
    "# Dog 클래스의 인스턴스 생성\n",
    "dog = Dog(\"멍멍이\")\n",
    "print(dog.name)\n",
    "print(dog.speak())\n",
    "\n",
    "# Cat 클래스의 인스턴스 생성\n",
    "cat = Cat(\"냥냥이\")\n",
    "print(cat.name)\n",
    "print(cat.speak())"
   ]
  },
  {
   "cell_type": "code",
   "execution_count": 6,
   "metadata": {},
   "outputs": [
    {
     "name": "stdout",
     "output_type": "stream",
     "text": [
      "자식에서 재정의한 메서드\n"
     ]
    }
   ],
   "source": [
    "# 메서드 오버라이딩\n",
    "class Parent:\n",
    "    def show(self):\n",
    "        print(\"부모 메서드\")\n",
    "\n",
    "class Child(Parent):\n",
    "    def show(self):\n",
    "        print(\"자식에서 재정의한 메서드\")\n",
    "\n",
    "child = Child()\n",
    "child.show() "
   ]
  },
  {
   "cell_type": "code",
   "execution_count": 7,
   "metadata": {},
   "outputs": [
    {
     "name": "stdout",
     "output_type": "stream",
     "text": [
      "추상 클래스는 자식 클래스에서 무조건 재정의 해야 함!\n"
     ]
    }
   ],
   "source": [
    "# 추상 클래스(Abstract Classes)\n",
    "from abc import ABC, abstractmethod\n",
    "\n",
    "class Parent(ABC):\n",
    "    @abstractmethod\n",
    "    def abstract_method(self):\n",
    "        pass\n",
    "\n",
    "class Child(Parent):\n",
    "    def abstract_method(self):\n",
    "        print(\"추상 클래스는 자식 클래스에서 무조건 재정의 해야 함!\")\n",
    "\n",
    "obj = Child()\n",
    "obj.abstract_method()"
   ]
  },
  {
   "cell_type": "code",
   "execution_count": 8,
   "metadata": {},
   "outputs": [
    {
     "name": "stdout",
     "output_type": "stream",
     "text": [
      "super 키워드로 부모 메서드에 접근 가능\n"
     ]
    }
   ],
   "source": [
    "# 부모 클래스의 메서드 호출하기\n",
    "class Parent:\n",
    "    def show(self):\n",
    "        print(\"super 키워드로 부모 메서드에 접근 가능\")\n",
    "\n",
    "class Child(Parent):\n",
    "    def show(self):\n",
    "        super().show()\n",
    "\n",
    "child = Child()\n",
    "child.show()\n"
   ]
  },
  {
   "cell_type": "code",
   "execution_count": 9,
   "metadata": {},
   "outputs": [
    {
     "name": "stdout",
     "output_type": "stream",
     "text": [
      "A 클래스의 메서드\n",
      "B 클래스의 메서드\n",
      "C 클래스의 메서드\n"
     ]
    }
   ],
   "source": [
    "# 다중 상속(Multiple Inheritance)\n",
    "class A:\n",
    "    def method_A(self):\n",
    "        print(\"A 클래스의 메서드\")\n",
    "\n",
    "class B:\n",
    "    def method_B(self):\n",
    "        print(\"B 클래스의 메서드\")\n",
    "\n",
    "class C(A, B):\n",
    "    def method_C(self):\n",
    "        print(\"C 클래스의 메서드\")\n",
    "\n",
    "obj = C()\n",
    "obj.method_A()\n",
    "obj.method_B()\n",
    "obj.method_C()"
   ]
  }
 ],
 "metadata": {
  "kernelspec": {
   "display_name": "Python 3",
   "language": "python",
   "name": "python3"
  },
  "language_info": {
   "codemirror_mode": {
    "name": "ipython",
    "version": 3
   },
   "file_extension": ".py",
   "mimetype": "text/x-python",
   "name": "python",
   "nbconvert_exporter": "python",
   "pygments_lexer": "ipython3",
   "version": "3.10.14"
  }
 },
 "nbformat": 4,
 "nbformat_minor": 2
}
