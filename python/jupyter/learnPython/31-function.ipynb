{
 "cells": [
  {
   "cell_type": "code",
   "execution_count": 1,
   "metadata": {},
   "outputs": [],
   "source": [
    "def add(a, b):\n",
    "    result = a + b\n",
    "    return result"
   ]
  },
  {
   "cell_type": "code",
   "execution_count": 2,
   "metadata": {},
   "outputs": [
    {
     "name": "stdout",
     "output_type": "stream",
     "text": [
      "8\n"
     ]
    }
   ],
   "source": [
    "result = add(5, 3)\n",
    "print(result)"
   ]
  },
  {
   "cell_type": "code",
   "execution_count": 3,
   "metadata": {},
   "outputs": [
    {
     "name": "stdout",
     "output_type": "stream",
     "text": [
      "24\n"
     ]
    }
   ],
   "source": [
    "def multiply(x, y):\n",
    "    result = x * y\n",
    "    return result\n",
    "\n",
    "product = multiply(4, 6)\n",
    "print(product)"
   ]
  },
  {
   "cell_type": "code",
   "execution_count": 8,
   "metadata": {},
   "outputs": [
    {
     "name": "stdout",
     "output_type": "stream",
     "text": [
      "인자값: 5\n",
      "(4, 3)\n",
      "['A', 'M']\n"
     ]
    }
   ],
   "source": [
    "# 1. 전달받은 인자값을 출력하는 함수\n",
    "def setValue(newValue):\n",
    "    x = newValue \n",
    "    print(\"인자값:\", x)\n",
    "\n",
    "# 함수 호출\n",
    "setValue(5)\n",
    "\n",
    "#==================================================================#\n",
    "# 2. 전달받은 2개의 인자값의 순서를 바꿔서 출력하는 함수\n",
    "def swap(x, y):\n",
    "    return y, x\n",
    "\n",
    "# 함수 호출\n",
    "print(swap(3, 4))\n",
    "\n",
    "#==================================================================#\n",
    "# 3. 교집합 문자를 리턴하는 함수\n",
    "def intersect(prelist, postlist):\n",
    "    #지역변수\n",
    "    result = []\n",
    "    #H(0) | A(1) | M(2)\n",
    "    for x in prelist:\n",
    "        #x라는 글자가 postlist에 있고 x가 result에 없으면\n",
    "        if x in postlist and x not in result:\n",
    "            result.append(x)\n",
    "    return result\n",
    "    \n",
    "#함수 호출\n",
    "print(intersect(\"HAM\", \"SPAM\"))"
   ]
  },
  {
   "cell_type": "code",
   "execution_count": 9,
   "metadata": {},
   "outputs": [
    {
     "name": "stdout",
     "output_type": "stream",
     "text": [
      "https://naver.com:8080\n"
     ]
    }
   ],
   "source": [
    "#키워드 인자\n",
    "def connectURI(server, port):\n",
    "    strURL = \"https://\" + server + \":\" + port\n",
    "    return strURL\n",
    "\n",
    "#함수 호출\n",
    "print( connectURI(port=\"8080\", server=\"naver.com\"))"
   ]
  },
  {
   "cell_type": "code",
   "execution_count": 10,
   "metadata": {},
   "outputs": [
    {
     "name": "stdout",
     "output_type": "stream",
     "text": [
      "Hi Guest!\n",
      "200\n",
      "100\n",
      "30\n"
     ]
    }
   ],
   "source": [
    "# ex1). 기본값 지정 \n",
    "def greet(name=\"Guest\"):\n",
    "    return f\"Hi {name}!\"\n",
    "\n",
    "message = greet()  # 매개변수를 제공하지 않음\n",
    "print(message)\n",
    "\n",
    "#==================================================================#\n",
    "# ex2) 기본값 지정\n",
    "def times(a=10, b=20):\n",
    "    return a*b\n",
    "\n",
    "#함수 호출\n",
    "print( times() ) # 매개변수 10, 20\n",
    "print( times(5) ) # 매개변수 5, 20\n",
    "print( times(5,6) ) # 매개변수 5, 6"
   ]
  },
  {
   "cell_type": "code",
   "execution_count": 11,
   "metadata": {},
   "outputs": [
    {
     "name": "stdout",
     "output_type": "stream",
     "text": [
      "15\n",
      "['H', 'A', 'M', 'S', 'P']\n",
      "['H', 'A', 'M', 'S', 'P', 'E', 'G']\n"
     ]
    }
   ],
   "source": [
    "# ex1) 가변인자\n",
    "def sum_all(*args):\n",
    "    total = sum(args)\n",
    "    return total\n",
    "\n",
    "result = sum_all(1, 2, 3, 4, 5)\n",
    "print(result)\n",
    "\n",
    "#==================================================================#\n",
    "# ex2) 가변인자\n",
    "def union(*ar):\n",
    "    #지역변수(리스트)\n",
    "    result = []\n",
    "    for item in ar:\n",
    "        for x in item:\n",
    "            if x not in result:\n",
    "                result.append(x)\n",
    "    return result\n",
    "\n",
    "#함수 호출\n",
    "print( union(\"HAM\",\"SPAM\") )\n",
    "print( union(\"HAM\",\"SPAM\",\"EGG\") )"
   ]
  }
 ],
 "metadata": {
  "kernelspec": {
   "display_name": "Python 3",
   "language": "python",
   "name": "python3"
  },
  "language_info": {
   "codemirror_mode": {
    "name": "ipython",
    "version": 3
   },
   "file_extension": ".py",
   "mimetype": "text/x-python",
   "name": "python",
   "nbconvert_exporter": "python",
   "pygments_lexer": "ipython3",
   "version": "3.10.14"
  }
 },
 "nbformat": 4,
 "nbformat_minor": 2
}
