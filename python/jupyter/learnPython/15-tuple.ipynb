{
 "cells": [
  {
   "cell_type": "code",
   "execution_count": 1,
   "metadata": {},
   "outputs": [
    {
     "name": "stdout",
     "output_type": "stream",
     "text": [
      "(1, 2, 3)\n"
     ]
    }
   ],
   "source": [
    "# 괄호를 사용하여 생성하기 (가장 많이 사용)\n",
    "ex_tuple = (1, 2, 3)\n",
    "print(ex_tuple)"
   ]
  },
  {
   "cell_type": "code",
   "execution_count": 2,
   "metadata": {},
   "outputs": [
    {
     "name": "stdout",
     "output_type": "stream",
     "text": [
      "(1, 2, '3')\n"
     ]
    }
   ],
   "source": [
    "# 괄호 없이 튜플 생성하기\n",
    "ex_tuple = 1, 2, \"3\"\n",
    "print(ex_tuple)"
   ]
  },
  {
   "cell_type": "code",
   "execution_count": 3,
   "metadata": {},
   "outputs": [
    {
     "name": "stdout",
     "output_type": "stream",
     "text": [
      "(42,)\n"
     ]
    }
   ],
   "source": [
    "# 하나의 값만 저장되어 있는 튜플 생성\n",
    "single_item_tuple = (42,)\n",
    "print(single_item_tuple)"
   ]
  },
  {
   "cell_type": "code",
   "execution_count": 5,
   "metadata": {},
   "outputs": [
    {
     "name": "stdout",
     "output_type": "stream",
     "text": [
      "()\n"
     ]
    }
   ],
   "source": [
    "# 빈 튜플 생성\n",
    "empty_tuple = ()\n",
    "print(empty_tuple)"
   ]
  },
  {
   "cell_type": "code",
   "execution_count": 4,
   "metadata": {},
   "outputs": [
    {
     "name": "stdout",
     "output_type": "stream",
     "text": [
      "10\n",
      "20\n",
      "30\n",
      "(10, 20, 30)\n",
      "(30,)\n"
     ]
    }
   ],
   "source": [
    "# 빈 튜플 생성\n",
    "ex_tuple = (10, 20, 30)\n",
    "print(ex_tuple[0])  # 10\n",
    "print(ex_tuple[1])  # 20\n",
    "print(ex_tuple[2])  # 30\n",
    "print(ex_tuple[0:]) # (10,20,30)\n",
    "print(ex_tuple[2:3]) # (30, )"
   ]
  },
  {
   "cell_type": "code",
   "execution_count": null,
   "metadata": {},
   "outputs": [],
   "source": [
    "# 빈 튜플 생성\n",
    "coordinates = (3, 5)\n",
    "x, y = coordinates  # x에는 3이, y에는 5가 할당됨\n",
    "print(x)\n",
    "print(y)"
   ]
  },
  {
   "cell_type": "code",
   "execution_count": 6,
   "metadata": {},
   "outputs": [
    {
     "name": "stdout",
     "output_type": "stream",
     "text": [
      "Alice\n",
      "30\n"
     ]
    }
   ],
   "source": [
    "# 함수에서 여러 값을 반환하기\n",
    "def get_name_and_age():\n",
    "    name = \"Alice\"\n",
    "    age = 30\n",
    "    return name, age\n",
    "\n",
    "name, age = get_name_and_age()\n",
    "print(name)  # \"Alice\"\n",
    "print(age)   # 30"
   ]
  },
  {
   "cell_type": "code",
   "execution_count": 7,
   "metadata": {},
   "outputs": [],
   "source": [
    "# 함수에서 여러 값을 반환하기\n",
    "point = (3, 5)\n",
    "points_dict = {point: \"This is the point\"}"
   ]
  },
  {
   "cell_type": "code",
   "execution_count": 8,
   "metadata": {},
   "outputs": [],
   "source": [
    "# 튜플의 길이 구하기\n",
    "ex_tuple = (1, 2, 3)\n",
    "length = len(ex_tuple)  # 3"
   ]
  },
  {
   "cell_type": "code",
   "execution_count": 9,
   "metadata": {},
   "outputs": [],
   "source": [
    "# 튜플의 요소 개수 구하기\n",
    "ex_tuple = (1, 2, 2, 3, 2)\n",
    "count_of_twos = ex_tuple.count(2)  # 3"
   ]
  },
  {
   "cell_type": "code",
   "execution_count": 10,
   "metadata": {},
   "outputs": [],
   "source": [
    "# 튜플 특정 요소의 인덱스 구하기\n",
    "ex_tuple = (10, 20, 30, 20)\n",
    "index_of_20 = ex_tuple.index(20)  # 1 (첫 번째 20은 인덱스 1에 있음)"
   ]
  },
  {
   "cell_type": "code",
   "execution_count": 11,
   "metadata": {},
   "outputs": [],
   "source": [
    "# 튜플 정렬하여 리스트로 반환하기\n",
    "ex_tuple = (3, 1, 2)\n",
    "sorted_list = sorted(ex_tuple)  # [1, 2, 3]"
   ]
  },
  {
   "cell_type": "code",
   "execution_count": null,
   "metadata": {},
   "outputs": [],
   "source": [
    "# 튜플의 요소에서 최대값 구하기\n",
    "ex_tuple = (10, 5, 8)\n",
    "maximum = max(ex_tuple)  # 10"
   ]
  },
  {
   "cell_type": "code",
   "execution_count": null,
   "metadata": {},
   "outputs": [],
   "source": [
    "# 튜플의 요소에서 최대값 구하기\n",
    "ex_tuple = (10, 5, 8)\n",
    "minimum = min(ex_tuple)  # 5"
   ]
  },
  {
   "cell_type": "code",
   "execution_count": null,
   "metadata": {},
   "outputs": [],
   "source": [
    "# 튜플 요소의 총 합 구하기\n",
    "ex_tuple = (1, 2, 3, 4)\n",
    "total = sum(ex_tuple)  # 10"
   ]
  },
  {
   "cell_type": "code",
   "execution_count": null,
   "metadata": {},
   "outputs": [],
   "source": [
    "# 튜플 요소의 총 합 구하기\n",
    "ex_list = [ 0, 1, 2, 3 ]\n",
    "ex_tuple = (tuple(ex_list)) # tuple로 변경\n",
    "print(ex_tuple) # (0, 1, 2, 3)\n",
    "\n",
    "ex_list = (list(ex_tuple)) # list로 변경\n",
    "print(ex_list) # [0, 1, 2, 3]"
   ]
  }
 ],
 "metadata": {
  "kernelspec": {
   "display_name": "Python 3",
   "language": "python",
   "name": "python3"
  },
  "language_info": {
   "codemirror_mode": {
    "name": "ipython",
    "version": 3
   },
   "file_extension": ".py",
   "mimetype": "text/x-python",
   "name": "python",
   "nbconvert_exporter": "python",
   "pygments_lexer": "ipython3",
   "version": "3.10.12"
  }
 },
 "nbformat": 4,
 "nbformat_minor": 2
}
