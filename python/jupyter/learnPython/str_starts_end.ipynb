{
 "cells": [
  {
   "cell_type": "code",
   "execution_count": 1,
   "metadata": {},
   "outputs": [
    {
     "name": "stdout",
     "output_type": "stream",
     "text": [
      "이 문자열은 'H'로 시작합니다.\n"
     ]
    }
   ],
   "source": [
    "str = \"Hello, world!\"\n",
    "\n",
    "# H로 시작하는가?\n",
    "if str.startswith('H'):\n",
    "    print(\"이 문자열은 'H'로 시작합니다.\")\n",
    "else:\n",
    "    print(\"이 문자열은 'H'로 시작하지 않습니다.\")"
   ]
  },
  {
   "cell_type": "code",
   "execution_count": 2,
   "metadata": {},
   "outputs": [
    {
     "name": "stdout",
     "output_type": "stream",
     "text": [
      "이 문자열은 '!'로 끝납니다.\n"
     ]
    }
   ],
   "source": [
    "str = \"Hello, world!\"\n",
    "\n",
    "# !로 끝나는가?\n",
    "if str.endswith('!'):\n",
    "    print(\"이 문자열은 '!'로 끝납니다.\")\n",
    "else:\n",
    "    print(\"이 문자열은 '!'로 끝나지 않습니다.\")"
   ]
  },
  {
   "cell_type": "code",
   "execution_count": 3,
   "metadata": {},
   "outputs": [
    {
     "name": "stdout",
     "output_type": "stream",
     "text": [
      "Sydney는 'S'로 시작합니다.\n",
      "London는 'S'로 시작하지 않습니다.\n",
      "San Francisco는 'S'로 시작합니다.\n",
      "Shanghai는 'S'로 시작합니다.\n",
      "New York는 'S'로 시작하지 않습니다.\n"
     ]
    }
   ],
   "source": [
    "# 예제 list\n",
    "cities = [\"Sydney\", \"London\", \"San Francisco\", \"Shanghai\", \"New York\"]\n",
    "\n",
    "# 'S'로 시작하는지 체크\n",
    "for city in cities:\n",
    "    if city.startswith('S'):\n",
    "        print(f\"{city}는 'S'로 시작합니다.\")\n",
    "    else:\n",
    "        print(f\"{city}는 'S'로 시작하지 않습니다.\")"
   ]
  }
 ],
 "metadata": {
  "kernelspec": {
   "display_name": "Python 3",
   "language": "python",
   "name": "python3"
  },
  "language_info": {
   "codemirror_mode": {
    "name": "ipython",
    "version": 3
   },
   "file_extension": ".py",
   "mimetype": "text/x-python",
   "name": "python",
   "nbconvert_exporter": "python",
   "pygments_lexer": "ipython3",
   "version": "3.10.14"
  }
 },
 "nbformat": 4,
 "nbformat_minor": 2
}
