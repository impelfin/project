{
 "cells": [
  {
   "cell_type": "code",
   "execution_count": 4,
   "metadata": {},
   "outputs": [
    {
     "name": "stdout",
     "output_type": "stream",
     "text": [
      "Hi World!\n"
     ]
    }
   ],
   "source": [
    "org_string = \"Hello World!\"\n",
    "new_string = org_string.replace(\"Hello\", \"Hi\")\n",
    "print(new_string)  # 결과 : \"Hi World!\""
   ]
  },
  {
   "cell_type": "code",
   "execution_count": 5,
   "metadata": {},
   "outputs": [
    {
     "name": "stdout",
     "output_type": "stream",
     "text": [
      "HeAAo WorAd!\n"
     ]
    }
   ],
   "source": [
    "org_str = \"Hello World!\"\n",
    "table = str.maketrans('l', 'A')\n",
    "new_str = org_str.translate(table)\n",
    "print(new_str)  # 결과 : \"HEllo World!\""
   ]
  },
  {
   "cell_type": "code",
   "execution_count": 6,
   "metadata": {},
   "outputs": [
    {
     "name": "stdout",
     "output_type": "stream",
     "text": [
      "AeAAo WoAAA!\n"
     ]
    }
   ],
   "source": [
    "# replace 메서드를 활용한 문자열 여러개 치환\n",
    "org_str = \"Hello World!\"\n",
    "replace_str = org_str.replace('H','A').replace('l','A').replace('r','A').replace('d','A')\n",
    "print(replace_str)  # 결과 : \"AeAAo WoAAA!\"\n"
   ]
  },
  {
   "cell_type": "code",
   "execution_count": 7,
   "metadata": {},
   "outputs": [
    {
     "name": "stdout",
     "output_type": "stream",
     "text": [
      "AeAAo WoAAA!\n"
     ]
    }
   ],
   "source": [
    "# translate 메서드를 활용한 문자열 여러개 치환\n",
    "table = org_str.maketrans('Hlrd', 'AAAA') \n",
    "new_str = org_str.translate(table)\n",
    "print(new_str)  # 결과 : \"AeAAo WoAAA!\""
   ]
  },
  {
   "cell_type": "code",
   "execution_count": 8,
   "metadata": {},
   "outputs": [
    {
     "name": "stdout",
     "output_type": "stream",
     "text": [
      "I like fruit and fruit.\n"
     ]
    }
   ],
   "source": [
    "import re\n",
    "\n",
    "text = \"I like apple and banana.\"\n",
    "replaced_text = re.sub(r\"apple|banana\", \"fruit\", text)\n",
    "print(replaced_text)  # 결과 : \"I like fruit and fruit.\""
   ]
  }
 ],
 "metadata": {
  "kernelspec": {
   "display_name": "Python 3",
   "language": "python",
   "name": "python3"
  },
  "language_info": {
   "codemirror_mode": {
    "name": "ipython",
    "version": 3
   },
   "file_extension": ".py",
   "mimetype": "text/x-python",
   "name": "python",
   "nbconvert_exporter": "python",
   "pygments_lexer": "ipython3",
   "version": "3.10.14"
  }
 },
 "nbformat": 4,
 "nbformat_minor": 2
}
