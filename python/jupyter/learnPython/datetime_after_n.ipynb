{
 "cells": [
  {
   "cell_type": "code",
   "execution_count": 1,
   "metadata": {},
   "outputs": [
    {
     "name": "stdout",
     "output_type": "stream",
     "text": [
      "현재 날짜: 2024-04-28 02:42:10.866029\n",
      "100일 전 날짜: 2024-01-19\n",
      "100일 후 날짜: 2024-08-06\n",
      "2달 전 날짜: 2024-02-28\n",
      "2달 후 날짜: 2024-06-27\n",
      "3년 전 날짜: 2021-04-29\n",
      "3년 후 날짜: 2027-04-28\n"
     ]
    }
   ],
   "source": [
    "# pip install python-dateutil\n",
    "\n",
    "from datetime import datetime, timedelta\n",
    "\n",
    "today = datetime.today()\n",
    "day1 = timedelta(days=100) # 100일 뒤\n",
    "day2 = timedelta(days=30*2) # 2달 뒤\n",
    "day3 = timedelta(days=365*3) # 3년 뒤\n",
    "\n",
    "print(\"현재 날짜:\", today)\n",
    "print(\"100일 전 날짜:\", (today - day1).date())\n",
    "print(\"100일 후 날짜:\", (today + day1).date())\n",
    "\n",
    "print(\"2달 전 날짜:\", (today - day2).date())\n",
    "print(\"2달 후 날짜:\", (today + day2).date())\n",
    "\n",
    "print(\"3년 전 날짜:\", (today - day3).date())\n",
    "print(\"3년 후 날짜:\", (today + day3).date())"
   ]
  },
  {
   "cell_type": "markdown",
   "metadata": {},
   "source": [
    "![timedelta](./temp/timedelta.png)"
   ]
  },
  {
   "cell_type": "code",
   "execution_count": 2,
   "metadata": {},
   "outputs": [
    {
     "name": "stdout",
     "output_type": "stream",
     "text": [
      "2달 뒤 날짜: 2024-06-28 02:43:43.055566\n",
      "3년 뒤 날짜: 2027-04-28 02:43:43.055566\n"
     ]
    }
   ],
   "source": [
    "from datetime import datetime\n",
    "from dateutil.relativedelta import relativedelta\n",
    "\n",
    "today = datetime.today()  # 현재 날짜\n",
    "day1 = today + relativedelta(months=2)  # 현재 날짜에서 2달 뒤 날짜 계산\n",
    "day2 = today + relativedelta(years=3)  # 현재 날짜에서 3년 뒤 날짜 계산\n",
    "\n",
    "print(\"2달 뒤 날짜:\", day1)\n",
    "print(\"3년 뒤 날짜:\", day2)"
   ]
  }
 ],
 "metadata": {
  "kernelspec": {
   "display_name": "Python 3",
   "language": "python",
   "name": "python3"
  },
  "language_info": {
   "codemirror_mode": {
    "name": "ipython",
    "version": 3
   },
   "file_extension": ".py",
   "mimetype": "text/x-python",
   "name": "python",
   "nbconvert_exporter": "python",
   "pygments_lexer": "ipython3",
   "version": "3.10.14"
  }
 },
 "nbformat": 4,
 "nbformat_minor": 2
}
