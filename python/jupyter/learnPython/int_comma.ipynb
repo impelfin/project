{
 "cells": [
  {
   "cell_type": "code",
   "execution_count": 1,
   "metadata": {},
   "outputs": [
    {
     "name": "stdout",
     "output_type": "stream",
     "text": [
      "10,000,000\n"
     ]
    }
   ],
   "source": [
    "num = 10000000\n",
    "formatted_num = (format(num, ','))\n",
    "print(formatted_num) # 결과 : 10,000,000"
   ]
  },
  {
   "cell_type": "code",
   "execution_count": 2,
   "metadata": {},
   "outputs": [
    {
     "name": "stdout",
     "output_type": "stream",
     "text": [
      "10,000,000\n"
     ]
    }
   ],
   "source": [
    "num = 10000000\n",
    "formatted_number = f\"{num:,}\"\n",
    "print(formatted_number)  # 결과 : 10,000,000"
   ]
  },
  {
   "cell_type": "code",
   "execution_count": 3,
   "metadata": {},
   "outputs": [
    {
     "name": "stdout",
     "output_type": "stream",
     "text": [
      "10,000,000\n"
     ]
    }
   ],
   "source": [
    "import locale\n",
    "\n",
    "num = 10000000\n",
    "# 로케일 설정\n",
    "locale.setlocale(locale.LC_ALL, 'en_US.UTF-8')  # 미국 로케일 사용\n",
    "# 포맷할 숫자\n",
    "formatted_num = locale.format_string(\"%d\", num, grouping=True)\n",
    "print(formatted_num) # 결과 : 10,000,000"
   ]
  }
 ],
 "metadata": {
  "kernelspec": {
   "display_name": "Python 3",
   "language": "python",
   "name": "python3"
  },
  "language_info": {
   "codemirror_mode": {
    "name": "ipython",
    "version": 3
   },
   "file_extension": ".py",
   "mimetype": "text/x-python",
   "name": "python",
   "nbconvert_exporter": "python",
   "pygments_lexer": "ipython3",
   "version": "3.10.14"
  }
 },
 "nbformat": 4,
 "nbformat_minor": 2
}
