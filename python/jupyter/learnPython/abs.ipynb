{
 "cells": [
  {
   "cell_type": "code",
   "execution_count": 4,
   "metadata": {},
   "outputs": [
    {
     "name": "stdout",
     "output_type": "stream",
     "text": [
      "절대값: 10\n"
     ]
    }
   ],
   "source": [
    "# 정수의 절대값 구하기\n",
    "num = -10\n",
    "absolute_value = abs(num)\n",
    "print(\"절대값:\", absolute_value)  # 출력: 절대값: 10"
   ]
  },
  {
   "cell_type": "code",
   "execution_count": 5,
   "metadata": {},
   "outputs": [
    {
     "name": "stdout",
     "output_type": "stream",
     "text": [
      "절대값: 3.14\n"
     ]
    }
   ],
   "source": [
    "# 실수의 절대값 구하기\n",
    "num = -3.14\n",
    "absolute_value = abs(num)\n",
    "print(\"절대값:\", absolute_value)  # 출력: 절대값: 3.14"
   ]
  },
  {
   "cell_type": "markdown",
   "metadata": {},
   "source": [
    "![complex](./temp/complex.png)"
   ]
  },
  {
   "cell_type": "code",
   "execution_count": 6,
   "metadata": {},
   "outputs": [
    {
     "name": "stdout",
     "output_type": "stream",
     "text": [
      "절대값: 5.0\n"
     ]
    }
   ],
   "source": [
    "# 복소수(complex number)의 절대값 구하기\n",
    "complex_num = 3 + 4j\n",
    "absolute_value = abs(complex_num)\n",
    "print(\"절대값:\", absolute_value)"
   ]
  }
 ],
 "metadata": {
  "kernelspec": {
   "display_name": "Python 3",
   "language": "python",
   "name": "python3"
  },
  "language_info": {
   "codemirror_mode": {
    "name": "ipython",
    "version": 3
   },
   "file_extension": ".py",
   "mimetype": "text/x-python",
   "name": "python",
   "nbconvert_exporter": "python",
   "pygments_lexer": "ipython3",
   "version": "3.10.12"
  }
 },
 "nbformat": 4,
 "nbformat_minor": 2
}
