{
 "cells": [
  {
   "cell_type": "code",
   "execution_count": 2,
   "metadata": {},
   "outputs": [
    {
     "name": "stdout",
     "output_type": "stream",
     "text": [
      "[1, 2, 3, 4, 5]\n"
     ]
    }
   ],
   "source": [
    "# 리스트명 = [요소1, 요소2, 요소3, ...]\n",
    "ex_list1 = [1, 2, 3, 4, 5]  # 정수로 이루어진 리스트 생성\n",
    "print(ex_list1)"
   ]
  },
  {
   "cell_type": "code",
   "execution_count": 3,
   "metadata": {},
   "outputs": [
    {
     "name": "stdout",
     "output_type": "stream",
     "text": [
      "['apple', 'banana', 'cherry']\n"
     ]
    }
   ],
   "source": [
    "ex_list2 = [\"apple\", \"banana\", \"cherry\"]  # 문자열로 이루어진 리스트 생성\n",
    "print(ex_list2)"
   ]
  },
  {
   "cell_type": "code",
   "execution_count": 4,
   "metadata": {},
   "outputs": [
    {
     "name": "stdout",
     "output_type": "stream",
     "text": [
      "[1, 'apple', True, 3.14]\n"
     ]
    }
   ],
   "source": [
    "ex_list3 = [1, \"apple\", True, 3.14]  # 다양한 데이터 유형을 포함하는 리스트 생성\n",
    "print(ex_list3)"
   ]
  },
  {
   "cell_type": "code",
   "execution_count": 5,
   "metadata": {},
   "outputs": [
    {
     "name": "stdout",
     "output_type": "stream",
     "text": [
      "[]\n"
     ]
    }
   ],
   "source": [
    "ex_list4 = list()  # 비어있는 리스트 생성\n",
    "print(ex_list4)"
   ]
  },
  {
   "cell_type": "code",
   "execution_count": 6,
   "metadata": {},
   "outputs": [
    {
     "name": "stdout",
     "output_type": "stream",
     "text": [
      "91\n",
      "11\n"
     ]
    }
   ],
   "source": [
    "numbers = [91, 11, 3, 45, 56, 15]\n",
    "\n",
    "print(numbers[0]) # 결과 : 91\n",
    "print(numbers[1]) # 결과 : 11"
   ]
  },
  {
   "cell_type": "code",
   "execution_count": 7,
   "metadata": {},
   "outputs": [
    {
     "name": "stdout",
     "output_type": "stream",
     "text": [
      "15\n",
      "56\n"
     ]
    }
   ],
   "source": [
    "numbers = [91, 11, 3, 45, 56, 15]\n",
    "\n",
    "print(numbers[-1]) # 결과 : 15\n",
    "print(numbers[-2]) # 결과 : 56"
   ]
  },
  {
   "cell_type": "markdown",
   "metadata": {},
   "source": [
    "![list](./temp/list.png)"
   ]
  },
  {
   "cell_type": "code",
   "execution_count": 8,
   "metadata": {},
   "outputs": [
    {
     "name": "stdout",
     "output_type": "stream",
     "text": [
      "[4, 5, 6, 7, 8]\n",
      "[1, 2, 3, 4, 5]\n",
      "[3, 4, 5, 6]\n"
     ]
    }
   ],
   "source": [
    "ex_list = [1, 2, 3, 4, 5, 6, 7, 8]\n",
    "\n",
    "print(ex_list[3:]) # 결과 : [4, 5, 6, 7, 8]\n",
    "print(ex_list[:5]) # 결과 : [1, 2, 3, 4, 5]\n",
    "print(ex_list[2:6]) # 결과 : [3, 4, 5, 6]"
   ]
  },
  {
   "cell_type": "code",
   "execution_count": 9,
   "metadata": {},
   "outputs": [
    {
     "name": "stdout",
     "output_type": "stream",
     "text": [
      "1\n",
      "2\n",
      "3\n",
      "4\n",
      "5\n",
      "6\n",
      "7\n",
      "8\n"
     ]
    }
   ],
   "source": [
    "ex_list = [1, 2, 3, 4, 5, 6, 7, 8]\n",
    "for item in ex_list:\n",
    "    print(item)"
   ]
  },
  {
   "cell_type": "code",
   "execution_count": 10,
   "metadata": {},
   "outputs": [
    {
     "name": "stdout",
     "output_type": "stream",
     "text": [
      "6\n"
     ]
    }
   ],
   "source": [
    "matrix = [[1, 2, 3], [4, 5, 6], [7, 8, 9]]\n",
    "print(matrix[1][2])  # 두 번째 리스트의 세 번째 값 (6)"
   ]
  }
 ],
 "metadata": {
  "kernelspec": {
   "display_name": "Python 3",
   "language": "python",
   "name": "python3"
  },
  "language_info": {
   "codemirror_mode": {
    "name": "ipython",
    "version": 3
   },
   "file_extension": ".py",
   "mimetype": "text/x-python",
   "name": "python",
   "nbconvert_exporter": "python",
   "pygments_lexer": "ipython3",
   "version": "3.10.14"
  }
 },
 "nbformat": 4,
 "nbformat_minor": 2
}
