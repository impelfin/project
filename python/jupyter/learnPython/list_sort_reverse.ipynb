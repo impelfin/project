{
 "cells": [
  {
   "cell_type": "code",
   "execution_count": 1,
   "metadata": {},
   "outputs": [
    {
     "name": "stdout",
     "output_type": "stream",
     "text": [
      "[1, 1, 2, 3, 4, 5, 6, 9]\n"
     ]
    }
   ],
   "source": [
    "ex_list = [3, 1, 4, 1, 5, 9, 2, 6]\n",
    "ex_list.sort()  # 오름차순으로 정렬\n",
    "print(ex_list)  # [1, 1, 2, 3, 4, 5, 6, 9]"
   ]
  },
  {
   "cell_type": "code",
   "execution_count": 2,
   "metadata": {},
   "outputs": [
    {
     "name": "stdout",
     "output_type": "stream",
     "text": [
      "[1, 1, 2, 3, 4, 5, 6, 9]\n"
     ]
    }
   ],
   "source": [
    "ex_list = [3, 1, 4, 1, 5, 9, 2, 6]\n",
    "new_list = sorted(ex_list)  # 오름차순으로 정렬한 새 리스트 반환\n",
    "print(new_list)  # [1, 1, 2, 3, 4, 5, 6, 9]"
   ]
  },
  {
   "cell_type": "code",
   "execution_count": 3,
   "metadata": {},
   "outputs": [
    {
     "name": "stdout",
     "output_type": "stream",
     "text": [
      "['date', 'apple', 'banana', 'cherry']\n"
     ]
    }
   ],
   "source": [
    "words = ['apple', 'banana', 'cherry', 'date']\n",
    "words.sort(key=len)  # 문자열 길이를 기준으로 정렬\n",
    "print(words)  # ['date', 'apple', 'banana', 'cherry']"
   ]
  },
  {
   "cell_type": "code",
   "execution_count": 4,
   "metadata": {},
   "outputs": [
    {
     "name": "stdout",
     "output_type": "stream",
     "text": [
      "['banana', 'apple', 'date', 'cherry', 'elderberry']\n"
     ]
    }
   ],
   "source": [
    "words = [\"apple\", \"banana\", \"cherry\", \"date\", \"elderberry\"]\n",
    "words.sort(key=lambda x: x[-1])  # 끝 글자를 기준으로 정렬\n",
    "print(words)"
   ]
  },
  {
   "cell_type": "code",
   "execution_count": 5,
   "metadata": {},
   "outputs": [
    {
     "name": "stdout",
     "output_type": "stream",
     "text": [
      "[9, 6, 5, 4, 3, 2, 1, 1]\n"
     ]
    }
   ],
   "source": [
    "ex_list = [3, 1, 4, 1, 5, 9, 2, 6]\n",
    "ex_list.sort(reverse=True)  # 리스트를 내림차순으로 정렬\n",
    "print(ex_list)  # [9, 6, 5, 4, 3, 2, 1, 1]"
   ]
  },
  {
   "cell_type": "code",
   "execution_count": 6,
   "metadata": {},
   "outputs": [
    {
     "name": "stdout",
     "output_type": "stream",
     "text": [
      "[9, 6, 5, 4, 3, 2, 1, 1]\n"
     ]
    }
   ],
   "source": [
    "ex_list = [3, 1, 4, 1, 5, 9, 2, 6]\n",
    "new_list = sorted(ex_list, reverse=True)  # 내림차순으로 정렬한 새 리스트 반환\n",
    "print(new_list)  # [9, 6, 5, 4, 3, 2, 1, 1]"
   ]
  }
 ],
 "metadata": {
  "kernelspec": {
   "display_name": "Python 3",
   "language": "python",
   "name": "python3"
  },
  "language_info": {
   "codemirror_mode": {
    "name": "ipython",
    "version": 3
   },
   "file_extension": ".py",
   "mimetype": "text/x-python",
   "name": "python",
   "nbconvert_exporter": "python",
   "pygments_lexer": "ipython3",
   "version": "3.10.14"
  }
 },
 "nbformat": 4,
 "nbformat_minor": 2
}
