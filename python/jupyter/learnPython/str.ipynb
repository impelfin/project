{
 "cells": [
  {
   "cell_type": "code",
   "execution_count": 1,
   "metadata": {},
   "outputs": [
    {
     "name": "stdout",
     "output_type": "stream",
     "text": [
      "Python is Awesome!\n"
     ]
    }
   ],
   "source": [
    "# 양쪽에 큰 따옴표 사용하기\n",
    "str = \"Python is Awesome!\"\n",
    "print(str)"
   ]
  },
  {
   "cell_type": "code",
   "execution_count": 2,
   "metadata": {},
   "outputs": [
    {
     "name": "stdout",
     "output_type": "stream",
     "text": [
      "Python is Awesome!\n"
     ]
    }
   ],
   "source": [
    "# 양쪽에 작은 따옴표 사용하기\n",
    "str = 'Python is Awesome!'\n",
    "print(str)"
   ]
  },
  {
   "cell_type": "code",
   "execution_count": 3,
   "metadata": {},
   "outputs": [
    {
     "name": "stdout",
     "output_type": "stream",
     "text": [
      "Python is Awesome!\n"
     ]
    }
   ],
   "source": [
    "# 양쪽에 큰 따옴표 3개 사용하기\n",
    "str = \"\"\"Python is Awesome!\"\"\"\n",
    "print(str)"
   ]
  },
  {
   "cell_type": "code",
   "execution_count": 4,
   "metadata": {},
   "outputs": [
    {
     "name": "stdout",
     "output_type": "stream",
     "text": [
      "Python is Awesome!\n"
     ]
    }
   ],
   "source": [
    "# 양쪽에 작은 따옴표 3개 사용하기\n",
    "str = '''Python is Awesome!'''\n",
    "print(str)"
   ]
  },
  {
   "cell_type": "code",
   "execution_count": 5,
   "metadata": {},
   "outputs": [
    {
     "name": "stdout",
     "output_type": "stream",
     "text": [
      "Python is Awesome!\n",
      "Python is Simple!\n",
      "Python is PowerFul!\n"
     ]
    }
   ],
   "source": [
    "# 큰 따옴표 3개를 사용하여 멀티라인 텍스트 만들기\n",
    "mutistr = \"\"\"Python is Awesome!\n",
    "Python is Simple!\n",
    "Python is PowerFul!\"\"\"\n",
    "print(mutistr)"
   ]
  },
  {
   "cell_type": "code",
   "execution_count": 6,
   "metadata": {},
   "outputs": [
    {
     "name": "stdout",
     "output_type": "stream",
     "text": [
      "Python is Awesome!\n",
      "Python is Simple!\n",
      "Python is PowerFul!\n"
     ]
    }
   ],
   "source": [
    "# 작은 따옴표 3개를 사용하여 멀티라인 텍스트 만들기\n",
    "mutistr = '''Python is Awesome!\n",
    "Python is Simple!\n",
    "Python is PowerFul!'''\n",
    "print(mutistr)"
   ]
  },
  {
   "cell_type": "code",
   "execution_count": 7,
   "metadata": {},
   "outputs": [
    {
     "name": "stdout",
     "output_type": "stream",
     "text": [
      "Python is \"Awesome!\"\n"
     ]
    }
   ],
   "source": [
    "str = 'Python is \"Awesome!\"'\n",
    "print(str)"
   ]
  },
  {
   "cell_type": "code",
   "execution_count": 8,
   "metadata": {},
   "outputs": [
    {
     "name": "stdout",
     "output_type": "stream",
     "text": [
      "Python is 'Awesome!'\n"
     ]
    }
   ],
   "source": [
    "str = \"Python is 'Awesome!'\"\n",
    "print(str)"
   ]
  },
  {
   "cell_type": "code",
   "execution_count": 9,
   "metadata": {},
   "outputs": [
    {
     "name": "stdout",
     "output_type": "stream",
     "text": [
      "Python is \"Awesome!\"\n"
     ]
    }
   ],
   "source": [
    "# 역슬래쉬를 활용하여 문자열안에 따옴표 넣기\n",
    "str = \"Python is \\\"Awesome!\\\"\"\n",
    "print(str)"
   ]
  },
  {
   "cell_type": "code",
   "execution_count": 10,
   "metadata": {},
   "outputs": [
    {
     "name": "stdout",
     "output_type": "stream",
     "text": [
      "Python is 'Awesome!'\n"
     ]
    }
   ],
   "source": [
    "str = 'Python is \\'Awesome!\\''\n",
    "print(str)"
   ]
  },
  {
   "cell_type": "code",
   "execution_count": 11,
   "metadata": {},
   "outputs": [
    {
     "name": "stdout",
     "output_type": "stream",
     "text": [
      "Python is Awesome!\n"
     ]
    }
   ],
   "source": [
    "str = \"Python is \" + \"Awesome!\"\n",
    "print(str)"
   ]
  },
  {
   "cell_type": "code",
   "execution_count": 12,
   "metadata": {},
   "outputs": [
    {
     "name": "stdout",
     "output_type": "stream",
     "text": [
      "Python is Awesome!\n",
      "Python is Awesome!\n",
      "Python is Awesome!\n",
      "\n"
     ]
    }
   ],
   "source": [
    "str = \"Python is Awesome!\\n\" * 3\n",
    "print(str)"
   ]
  },
  {
   "cell_type": "code",
   "execution_count": 13,
   "metadata": {},
   "outputs": [
    {
     "name": "stdout",
     "output_type": "stream",
     "text": [
      "====================\n",
      "Python is Awesome!\n",
      "====================\n"
     ]
    }
   ],
   "source": [
    "star = \"=\" * 20\n",
    "str = \"Python is Awesome!\"\n",
    "\n",
    "print(star)\n",
    "print(str)\n",
    "print(star)"
   ]
  }
 ],
 "metadata": {
  "kernelspec": {
   "display_name": "Python 3",
   "language": "python",
   "name": "python3"
  },
  "language_info": {
   "codemirror_mode": {
    "name": "ipython",
    "version": 3
   },
   "file_extension": ".py",
   "mimetype": "text/x-python",
   "name": "python",
   "nbconvert_exporter": "python",
   "pygments_lexer": "ipython3",
   "version": "3.10.12"
  }
 },
 "nbformat": 4,
 "nbformat_minor": 2
}
