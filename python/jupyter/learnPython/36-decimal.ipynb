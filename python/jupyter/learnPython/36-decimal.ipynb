{
 "cells": [
  {
   "cell_type": "code",
   "execution_count": 5,
   "metadata": {},
   "outputs": [
    {
     "name": "stdout",
     "output_type": "stream",
     "text": [
      "0.30000000000000004\n"
     ]
    }
   ],
   "source": [
    "print(0.1 + 0.2)"
   ]
  },
  {
   "cell_type": "code",
   "execution_count": 6,
   "metadata": {},
   "outputs": [
    {
     "name": "stdout",
     "output_type": "stream",
     "text": [
      "0.1\n"
     ]
    }
   ],
   "source": [
    "# Decimal 데이터 타입 생성\n",
    "from decimal import Decimal\n",
    "\n",
    "number = Decimal('0.1')\n",
    "print(number)"
   ]
  },
  {
   "cell_type": "code",
   "execution_count": 7,
   "metadata": {},
   "outputs": [
    {
     "name": "stdout",
     "output_type": "stream",
     "text": [
      "0.3\n"
     ]
    }
   ],
   "source": [
    "# 정확한 실수 계산 제공\n",
    "from decimal import Decimal\n",
    "\n",
    "x = Decimal('0.1')\n",
    "y = Decimal('0.2')\n",
    "\n",
    "print(x + y)  # 결과: Decimal('0.3')"
   ]
  },
  {
   "cell_type": "code",
   "execution_count": 8,
   "metadata": {},
   "outputs": [
    {
     "name": "stdout",
     "output_type": "stream",
     "text": [
      "0.1524064320\n"
     ]
    }
   ],
   "source": [
    "# 정밀도 제어\n",
    "from decimal import Decimal, getcontext\n",
    "\n",
    "getcontext().prec = 10  # 소수점 이하 10자리까지 정밀도 설정\n",
    "a = Decimal('0.12345')\n",
    "b = Decimal('1.23456')\n",
    "result = a * b\n",
    "print(result) # 결과 : 0.1524064320"
   ]
  },
  {
   "cell_type": "code",
   "execution_count": 9,
   "metadata": {},
   "outputs": [
    {
     "name": "stdout",
     "output_type": "stream",
     "text": [
      "10.34\n"
     ]
    }
   ],
   "source": [
    "# 반올림 및 올림\n",
    "from decimal import Decimal, ROUND_UP\n",
    "\n",
    "number = Decimal('10.333')\n",
    "rounded = number.quantize(Decimal('0.01'), rounding=ROUND_UP)  # 결과: Decimal('10.34')\n",
    "print(rounded)"
   ]
  }
 ],
 "metadata": {
  "kernelspec": {
   "display_name": "Python 3",
   "language": "python",
   "name": "python3"
  },
  "language_info": {
   "codemirror_mode": {
    "name": "ipython",
    "version": 3
   },
   "file_extension": ".py",
   "mimetype": "text/x-python",
   "name": "python",
   "nbconvert_exporter": "python",
   "pygments_lexer": "ipython3",
   "version": "3.10.14"
  }
 },
 "nbformat": 4,
 "nbformat_minor": 2
}
