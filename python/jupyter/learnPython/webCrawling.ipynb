{
 "cells": [
  {
   "cell_type": "code",
   "execution_count": 2,
   "metadata": {},
   "outputs": [
    {
     "name": "stdout",
     "output_type": "stream",
     "text": [
      "아이패드 프로 12.9 5세대 512GB 셀룰라\n",
      "가격인하) 아이패드 프로11 4세대 256 셀룰러 미개봉\n",
      "아이패드 M1 256LTE 매직키보드 화이트\n",
      "아이패드 프로 2세대 12.9 화이트 + 애플펜슬 1세대 64G 판매\n",
      "아이패드 미니 6 256G 셀룰러 퍼플 (+애케플) + 애플펜슬 + 케이스\n",
      "판매 미개봉/인하) 아이패드 프로 11 M2 1TB 와이파이 스페이스그레이\n",
      "아이패드프로 12.9 M2 와이파이 512. 매직키보드. 애플펜슬. 커버. 애플케어 플러스 판\n",
      "아이패드 프로 스마트키보드 폴리오 12.9“ 판매합니다.\n",
      "미개봉/인하) 아이패드 프로 11 M2 1TB 와이파이 스페이스그레이\n",
      "아이패드 미니6 64g wifi 스페이스그레이 판매합니다.\n"
     ]
    }
   ],
   "source": [
    "from bs4 import BeautifulSoup\n",
    "import urllib.request\n",
    "import re \n",
    "\n",
    "#User-Agent를 조작하는 경우(아이폰에서 사용하는 사파리 브라우져의 헤더) \n",
    "hdr = {'User-agent':'Mozilla/5.0 (iPhone; CPU iPhone OS 10_3 like Mac OS X) AppleWebKit/603.1.23 (KHTML, like Gecko) Version/10.0 Mobile/14E5239e Safari/602.1'}\n",
    "\n",
    "for n in range(0,10):\n",
    "        #클리앙의 중고장터 주소 \n",
    "        data ='https://www.clien.net/service/board/sold?&od=T31&po=' + str(n)\n",
    "        #웹브라우져 헤더 추가 \n",
    "        req = urllib.request.Request(data, \\\n",
    "                                    headers = hdr)\n",
    "        data = urllib.request.urlopen(req).read()\n",
    "        page = data.decode('utf-8', 'ignore')\n",
    "        soup = BeautifulSoup(page, 'html.parser')\n",
    "        list = soup.find_all('span', \n",
    "                attrs={'data-role':'list-title-text'})\n",
    "\n",
    "        for item in list:\n",
    "                try:\n",
    "                        title = item.text.strip()\n",
    "                        #print(title) # 클리앙 글 출력\n",
    "                        if (re.search('아이패드', title)): # 아이패드에 관련된 글만 출력\n",
    "                                print(title.strip())\n",
    "                except:\n",
    "                        pass"
   ]
  }
 ],
 "metadata": {
  "kernelspec": {
   "display_name": "Python 3",
   "language": "python",
   "name": "python3"
  },
  "language_info": {
   "codemirror_mode": {
    "name": "ipython",
    "version": 3
   },
   "file_extension": ".py",
   "mimetype": "text/x-python",
   "name": "python",
   "nbconvert_exporter": "python",
   "pygments_lexer": "ipython3",
   "version": "3.10.14"
  }
 },
 "nbformat": 4,
 "nbformat_minor": 2
}
