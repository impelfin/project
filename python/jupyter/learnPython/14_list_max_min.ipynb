{
 "cells": [
  {
   "cell_type": "code",
   "execution_count": 1,
   "metadata": {},
   "outputs": [
    {
     "name": "stdout",
     "output_type": "stream",
     "text": [
      "10\n"
     ]
    }
   ],
   "source": [
    "ex_list = [10, 7, 5]\n",
    "maxnum = max(ex_list)  # maxnum = 10\n",
    "print(maxnum) # 최대값 출력"
   ]
  },
  {
   "cell_type": "code",
   "execution_count": 2,
   "metadata": {},
   "outputs": [
    {
     "name": "stdout",
     "output_type": "stream",
     "text": [
      "5\n"
     ]
    }
   ],
   "source": [
    "ex_list = [10, 7, 5]\n",
    "minnum = min(ex_list)  # minnum = 5\n",
    "print(minnum) # 최소값 출력"
   ]
  },
  {
   "cell_type": "code",
   "execution_count": 3,
   "metadata": {},
   "outputs": [
    {
     "name": "stdout",
     "output_type": "stream",
     "text": [
      "0\n",
      "2\n"
     ]
    }
   ],
   "source": [
    "ex_list = [10, 7, 5]\n",
    "maxindex = ex_list.index(max(ex_list))  # 최대값을 가지고 있는 index\n",
    "minindex = ex_list.index(min(ex_list))  # 최소값을 가지고 있는 index\n",
    "print(maxindex) # 최대값 index 출력\n",
    "print(minindex) # 최소값 index 출력"
   ]
  },
  {
   "cell_type": "code",
   "execution_count": 4,
   "metadata": {},
   "outputs": [
    {
     "name": "stdout",
     "output_type": "stream",
     "text": [
      "8\n"
     ]
    }
   ],
   "source": [
    "import statistics\n",
    "ex_list = [10, 8, 6]\n",
    "meannum = statistics.mean(ex_list)  # meannum = 5\n",
    "print(meannum) # 평균값 출력"
   ]
  },
  {
   "cell_type": "code",
   "execution_count": 5,
   "metadata": {},
   "outputs": [
    {
     "name": "stdout",
     "output_type": "stream",
     "text": [
      "8\n"
     ]
    }
   ],
   "source": [
    "import statistics\n",
    "ex_list = [10, 8, 3]\n",
    "mediannum = statistics.median(ex_list)  # mediannum = 8\n",
    "print(mediannum) # 중간값 출력"
   ]
  },
  {
   "cell_type": "code",
   "execution_count": 6,
   "metadata": {},
   "outputs": [
    {
     "name": "stdout",
     "output_type": "stream",
     "text": [
      "10\n"
     ]
    }
   ],
   "source": [
    "ex_list = [1, 2, 3, 4]\n",
    "total = sum(ex_list)  # 10\n",
    "print(total) # 합계 출력"
   ]
  }
 ],
 "metadata": {
  "kernelspec": {
   "display_name": "Python 3",
   "language": "python",
   "name": "python3"
  },
  "language_info": {
   "codemirror_mode": {
    "name": "ipython",
    "version": 3
   },
   "file_extension": ".py",
   "mimetype": "text/x-python",
   "name": "python",
   "nbconvert_exporter": "python",
   "pygments_lexer": "ipython3",
   "version": "3.10.12"
  }
 },
 "nbformat": 4,
 "nbformat_minor": 2
}
