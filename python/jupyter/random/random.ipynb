{
 "cells": [
  {
   "cell_type": "code",
   "execution_count": 217,
   "metadata": {},
   "outputs": [
    {
     "name": "stdout",
     "output_type": "stream",
     "text": [
      "7\n"
     ]
    }
   ],
   "source": [
    "import random\n",
    " \n",
    "a = random.randint(1,10)\n",
    "\n",
    "print(a)\n"
   ]
  },
  {
   "cell_type": "code",
   "execution_count": 218,
   "metadata": {},
   "outputs": [
    {
     "name": "stdout",
     "output_type": "stream",
     "text": [
      "[6, 7, 1, 5, 1, 3, 7, 5, 10, 5]\n"
     ]
    }
   ],
   "source": [
    "import random\n",
    "\n",
    "alist=[]\n",
    "n = 10\n",
    "for i in range(n):\n",
    "    a = random.randint(1, n)\n",
    "    alist.append(a)\n",
    "\n",
    "print(alist)"
   ]
  },
  {
   "cell_type": "code",
   "execution_count": 219,
   "metadata": {},
   "outputs": [
    {
     "name": "stdout",
     "output_type": "stream",
     "text": [
      "[2, 10, 3, 1, 5, 4, 7, 9, 6, 8]\n"
     ]
    }
   ],
   "source": [
    "import random\n",
    " \n",
    "\n",
    "n = 10\n",
    "a = random.sample(range(1, n + 1), n)\n",
    "print(a)\n"
   ]
  },
  {
   "cell_type": "code",
   "execution_count": 220,
   "metadata": {},
   "outputs": [
    {
     "name": "stdout",
     "output_type": "stream",
     "text": [
      "[8, 4, 9, 6, 10, 5, 7, 1, 2, 3]\n"
     ]
    }
   ],
   "source": [
    "import random\n",
    " \n",
    "alist=[]      \n",
    "n = 10        \n",
    "for i in range(n):\n",
    "    a = random.randint(1, n) \n",
    "    while a in alist:\n",
    "        a = random.randint(1, n) \n",
    "    alist.append(a)\n",
    "\n",
    "print(alist)"
   ]
  },
  {
   "cell_type": "code",
   "execution_count": 221,
   "metadata": {},
   "outputs": [
    {
     "name": "stdout",
     "output_type": "stream",
     "text": [
      "[8, 9, 1, 4, 5, 7, 3, 2, 6, 10]\n"
     ]
    }
   ],
   "source": [
    "import random\n",
    "\n",
    "alist=[]      \n",
    "\n",
    "def randomInt():\n",
    "    n = 10        \n",
    "    for i in range(n):\n",
    "        a = random.randint(1, n) \n",
    "        while a in alist:\n",
    "            a = random.randint(1, n) \n",
    "        alist.append(a)\n",
    "    return alist\n",
    "\n",
    "print(randomInt())"
   ]
  },
  {
   "cell_type": "code",
   "execution_count": 222,
   "metadata": {},
   "outputs": [
    {
     "name": "stdout",
     "output_type": "stream",
     "text": [
      "[5, 9, 6, 3, 10, 1, 2, 7, 4, 8]\n"
     ]
    }
   ],
   "source": [
    "import random\n",
    "\n",
    "alist=[]      \n",
    "n = 10\n",
    "\n",
    "def recursive_randomInt(count):\n",
    "    while count == 0:\n",
    "        print(alist)\n",
    "        return alist\n",
    "    a = random.randint(1, n) \n",
    "    while a in alist:\n",
    "        a = random.randint(1, n) \n",
    "    alist.append(a)\n",
    "    count -= 1\n",
    "    recursive_randomInt(count)\n",
    "    \n",
    "recursive_randomInt(10)\n"
   ]
  }
 ],
 "metadata": {
  "kernelspec": {
   "display_name": "Python 3",
   "language": "python",
   "name": "python3"
  },
  "language_info": {
   "codemirror_mode": {
    "name": "ipython",
    "version": 3
   },
   "file_extension": ".py",
   "mimetype": "text/x-python",
   "name": "python",
   "nbconvert_exporter": "python",
   "pygments_lexer": "ipython3",
   "version": "3.10.14"
  }
 },
 "nbformat": 4,
 "nbformat_minor": 2
}
