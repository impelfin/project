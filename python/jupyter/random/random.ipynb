{
 "cells": [
  {
   "cell_type": "code",
   "execution_count": 7,
   "metadata": {},
   "outputs": [
    {
     "name": "stdout",
     "output_type": "stream",
     "text": [
      "4\n"
     ]
    }
   ],
   "source": [
    "import random\n",
    " \n",
    "a = random.randint(1,10)\n",
    "\n",
    "print(a)\n"
   ]
  },
  {
   "cell_type": "code",
   "execution_count": 99,
   "metadata": {},
   "outputs": [
    {
     "name": "stdout",
     "output_type": "stream",
     "text": [
      "[9, 7, 9, 8, 10, 10, 2, 8, 1, 4]\n"
     ]
    }
   ],
   "source": [
    "import random\n",
    "\n",
    "alist=[]\n",
    "n = 10\n",
    "for i in range(n):\n",
    "    a = random.randint(1, n)\n",
    "    alist.append(a)\n",
    "\n",
    "print(alist)"
   ]
  },
  {
   "cell_type": "code",
   "execution_count": 124,
   "metadata": {},
   "outputs": [
    {
     "name": "stdout",
     "output_type": "stream",
     "text": [
      "[3, 8, 2, 9, 1, 4, 6, 7, 5, 10]\n"
     ]
    }
   ],
   "source": [
    "import random\n",
    " \n",
    "\n",
    "n = 10\n",
    "a = random.sample(range(1, n+1), n)\n",
    "print(a)\n"
   ]
  },
  {
   "cell_type": "code",
   "execution_count": 171,
   "metadata": {},
   "outputs": [
    {
     "name": "stdout",
     "output_type": "stream",
     "text": [
      "[5, 7, 2, 8, 10, 9, 3, 4, 6, 1]\n"
     ]
    }
   ],
   "source": [
    "import random\n",
    " \n",
    "alist=[]      \n",
    "n = 10        \n",
    "for i in range(n):\n",
    "    a = random.randint(1, n) \n",
    "    while a in alist:\n",
    "        a = random.randint(1, n) \n",
    "    alist.append(a)\n",
    "\n",
    "print(alist)"
   ]
  },
  {
   "cell_type": "code",
   "execution_count": 202,
   "metadata": {},
   "outputs": [
    {
     "name": "stdout",
     "output_type": "stream",
     "text": [
      "[4, 6, 9, 8, 7, 2, 5, 10, 3, 1]\n"
     ]
    }
   ],
   "source": [
    "import random\n",
    "\n",
    "alist=[]      \n",
    "\n",
    "def randomInt():\n",
    "    n = 10        \n",
    "    for i in range(n):\n",
    "        a = random.randint(1, n) \n",
    "        while a in alist:\n",
    "            a = random.randint(1, n) \n",
    "        alist.append(a)\n",
    "    return alist\n",
    "\n",
    "print(randomInt())"
   ]
  },
  {
   "cell_type": "code",
   "execution_count": 203,
   "metadata": {},
   "outputs": [
    {
     "name": "stdout",
     "output_type": "stream",
     "text": [
      "[2, 9, 10, 1, 4, 7, 5, 3, 6, 8]\n"
     ]
    }
   ],
   "source": [
    "import random\n",
    "\n",
    "alist=[]      \n",
    "n = 10\n",
    "\n",
    "def recursive_randomInt(count):\n",
    "    while count == 0:\n",
    "        print(alist)\n",
    "        return alist\n",
    "    a = random.randint(1, n) \n",
    "    while a in alist:\n",
    "        a = random.randint(1, n) \n",
    "    alist.append(a)\n",
    "    count -= 1\n",
    "    recursive_randomInt(count)\n",
    "    \n",
    "recursive_randomInt(10)\n"
   ]
  }
 ],
 "metadata": {
  "kernelspec": {
   "display_name": "Python 3",
   "language": "python",
   "name": "python3"
  },
  "language_info": {
   "codemirror_mode": {
    "name": "ipython",
    "version": 3
   },
   "file_extension": ".py",
   "mimetype": "text/x-python",
   "name": "python",
   "nbconvert_exporter": "python",
   "pygments_lexer": "ipython3",
   "version": "3.10.14"
  }
 },
 "nbformat": 4,
 "nbformat_minor": 2
}
